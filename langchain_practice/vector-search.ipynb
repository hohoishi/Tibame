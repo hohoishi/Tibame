{
 "cells": [
  {
   "cell_type": "code",
   "execution_count": 1,
   "metadata": {},
   "outputs": [
    {
     "name": "stderr",
     "output_type": "stream",
     "text": [
      "c:\\Users\\TMP214\\miniconda3\\envs\\langchain-practice\\Lib\\site-packages\\langchain_core\\_api\\deprecation.py:139: LangChainDeprecationWarning: The class `HuggingFaceEmbeddings` was deprecated in LangChain 0.2.2 and will be removed in 0.3.0. An updated version of the class exists in the langchain-huggingface package and should be used instead. To use it run `pip install -U langchain-huggingface` and import as `from langchain_huggingface import HuggingFaceEmbeddings`.\n",
      "  warn_deprecated(\n",
      "c:\\Users\\TMP214\\miniconda3\\envs\\langchain-practice\\Lib\\site-packages\\sentence_transformers\\cross_encoder\\CrossEncoder.py:11: TqdmWarning: IProgress not found. Please update jupyter and ipywidgets. See https://ipywidgets.readthedocs.io/en/stable/user_install.html\n",
      "  from tqdm.autonotebook import tqdm, trange\n"
     ]
    },
    {
     "data": {
      "text/plain": [
       "[(Document(metadata={'Animal Name': 'camel', 'Source URL': 'https://www.animalfactsencyclopedia.com/Camel-facts.html'}, page_content='The camel is known as the \"Ship of the Desert\"'),\n",
       "  0.711807),\n",
       " (Document(metadata={'Animal Name': 'fennec fox', 'Source URL': 'https://a-z-animals.com/animals/fennec-fox/'}, page_content='Found in the African Sahara Desert!'),\n",
       "  0.92187446),\n",
       " (Document(metadata={'Animal Name': 'summer flounder', 'Source URL': 'https://a-z-animals.com/animals/fluke-fish/'}, page_content='The chameleon of the seas!'),\n",
       "  0.9567354)]"
      ]
     },
     "execution_count": 1,
     "metadata": {},
     "output_type": "execute_result"
    }
   ],
   "source": [
    "from langchain import FAISS\n",
    "import pandas as pd\n",
    "\n",
    "# Load dataset\n",
    "animal_data = pd.read_csv(\"animal-fun-facts-dataset.csv\")\n",
    "\n",
    "from langchain.embeddings import SentenceTransformerEmbeddings\n",
    "\n",
    "embedding_function = SentenceTransformerEmbeddings(model_name=\"all-MiniLM-L6-v2\")\n",
    "\n",
    "metadatas = []\n",
    "for i, row in animal_data.iterrows():\n",
    "    metadatas.append(\n",
    "        {\n",
    "            \"Animal Name\": row[\"animal_name\"],\n",
    "            \"Source URL\": row[\"source\"],\n",
    "            # \"Media URL\": row[\"media_link\"],\n",
    "            # \"Wikipedia URL\": row[\"wikipedia_link\"],\n",
    "        }\n",
    "    )\n",
    "\n",
    "animal_data[\"text\"] = animal_data[\"text\"].astype(str)\n",
    "\n",
    "faiss = FAISS.from_texts(animal_data[\"text\"].to_list(), embedding_function, metadatas) #向量資料庫\n",
    "\n",
    "faiss.similarity_search_with_score(\"What is ship of the desert?\", 3)"
   ]
  },
  {
   "cell_type": "code",
   "execution_count": 2,
   "metadata": {},
   "outputs": [],
   "source": [
    "faiss.save_local('animals_data_db', 'animal_fun_facts') #儲存資料庫\n"
   ]
  }
 ],
 "metadata": {
  "kernelspec": {
   "display_name": "langchain-practice",
   "language": "python",
   "name": "python3"
  },
  "language_info": {
   "codemirror_mode": {
    "name": "ipython",
    "version": 3
   },
   "file_extension": ".py",
   "mimetype": "text/x-python",
   "name": "python",
   "nbconvert_exporter": "python",
   "pygments_lexer": "ipython3",
   "version": "3.11.9"
  }
 },
 "nbformat": 4,
 "nbformat_minor": 2
}
