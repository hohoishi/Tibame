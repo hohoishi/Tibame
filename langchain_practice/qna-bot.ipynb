{
 "cells": [
  {
   "cell_type": "code",
   "execution_count": 16,
   "metadata": {},
   "outputs": [],
   "source": [
    "from langchain import FAISS\n",
    "from langchain.embeddings import SentenceTransformerEmbeddings\n",
    "\n",
    "embedding_function = SentenceTransformerEmbeddings(model_name=\"all-MiniLM-L6-v2\")\n",
    "\n",
    "vector_store = FAISS.load_local('animals_data_db' ,embedding_function , 'animal_fun_facts',allow_dangerous_deserialization=True )\n",
    "\n",
    "\n"
   ]
  },
  {
   "cell_type": "code",
   "execution_count": 6,
   "metadata": {},
   "outputs": [
    {
     "data": {
      "text/plain": [
       "[(Document(metadata={'Animal Name': 'blue whale', 'Source URL': 'https://a-z-animals.com/animals/blue-whale/'}, page_content='The largest animal on Earth'),\n",
       "  0.366678),\n",
       " (Document(metadata={'Animal Name': 'bison', 'Source URL': 'https://a-z-animals.com/animals/bison/'}, page_content='Largest mammal in North America!'),\n",
       "  0.3992185),\n",
       " (Document(metadata={'Animal Name': 'eastern gorilla', 'Source URL': 'https://a-z-animals.com/animals/eastern-gorilla/'}, page_content='The largest primate in the world!'),\n",
       "  0.53314203),\n",
       " (Document(metadata={'Animal Name': 'capybara', 'Source URL': 'https://seaworld.org/animals/facts/mammals/capybara/'}, page_content=\"The capybara is the world's largest living rodent.\"),\n",
       "  0.59396744),\n",
       " (Document(metadata={'Animal Name': 'grey mouse lemur', 'Source URL': 'https://a-z-animals.com/animals/grey-mouse-lemur/'}, page_content='The largest species of mouse lemur!'),\n",
       "  0.628878)]"
      ]
     },
     "execution_count": 6,
     "metadata": {},
     "output_type": "execute_result"
    }
   ],
   "source": [
    "# results = vector_store.similarity_search_with_score(query, 5)\n",
    "# results"
   ]
  },
  {
   "cell_type": "code",
   "execution_count": 19,
   "metadata": {},
   "outputs": [
    {
     "data": {
      "text/plain": [
       "tuple"
      ]
     },
     "execution_count": 19,
     "metadata": {},
     "output_type": "execute_result"
    }
   ],
   "source": [
    "type(top1[0])"
   ]
  },
  {
   "cell_type": "code",
   "execution_count": 28,
   "metadata": {},
   "outputs": [
    {
     "name": "stdout",
     "output_type": "stream",
     "text": [
      "question: 你好我叫阿傑\n",
      "answer: 不在我的管轄範圍\n"
     ]
    }
   ],
   "source": [
    "query = \"What is the largest mammal in the world?\"\n",
    "query = '你好我叫阿傑'\n",
    "\n",
    "top1 = vector_store.similarity_search_with_score(query, 1)\n",
    "\n",
    "text = top1[0][0].page_content\n",
    "score = top1[0][1]\n",
    "\n",
    "if score >1:\n",
    "    print(f'question: {query}')\n",
    "    print('answer:','不在我的管轄範圍')\n",
    "else:\n",
    "    print(f'question: {query}')\n",
    "    print(f'answer: {text}')    \n",
    "    \n"
   ]
  }
 ],
 "metadata": {
  "kernelspec": {
   "display_name": "langchain-practice",
   "language": "python",
   "name": "python3"
  },
  "language_info": {
   "codemirror_mode": {
    "name": "ipython",
    "version": 3
   },
   "file_extension": ".py",
   "mimetype": "text/x-python",
   "name": "python",
   "nbconvert_exporter": "python",
   "pygments_lexer": "ipython3",
   "version": "3.11.9"
  }
 },
 "nbformat": 4,
 "nbformat_minor": 2
}
