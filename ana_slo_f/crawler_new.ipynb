{
 "cells": [
  {
   "cell_type": "code",
   "execution_count": 1,
   "metadata": {},
   "outputs": [],
   "source": [
    "import requests\n",
    "import time \n",
    "import json\n",
    "import os\n",
    "from bs4 import BeautifulSoup\n",
    "import pandas as pd"
   ]
  },
  {
   "cell_type": "code",
   "execution_count": 2,
   "metadata": {},
   "outputs": [],
   "source": [
    "def get_date_data(country, brand , storename):\n",
    "    response = requests.get(f'https://ana-slo.com/ホールデータ/{country}/{brand}{storename}-データ一覧/')\n",
    "    soup = BeautifulSoup(response.text, 'html.parser')\n",
    "    table = soup.find('div' , id= 'table')\n",
    "\n",
    "    #找到所有有 a 的日期\n",
    "    a = table.find_all('a')\n",
    "    a_list = []\n",
    "    for date in a:\n",
    "        a_list.append(date.text.strip()[:10].replace('/', '-'))\n",
    "\n",
    "    return a_list"
   ]
  },
  {
   "cell_type": "code",
   "execution_count": 4,
   "metadata": {},
   "outputs": [],
   "source": [
    "#the main function\n",
    "def get_slot_data(date , brand , storename):\n",
    "    response = requests.get(f'https://ana-slo.com/{date}-{brand}{storename}-data/')\n",
    "    soup = BeautifulSoup(response.text, 'html.parser')\n",
    "\n",
    "    div = soup.find_all('div', id='all_data_block')\n",
    "    tr = div[0].find_all('tr')\n",
    "    columns_slot = tr[0].text.strip().split('\\n')\n",
    "\n",
    "    data_list = []\n",
    "    for td in tr[1:len(tr)]:\n",
    "        data = td.text.strip().split('\\n')\n",
    "        if len(data)==9:\n",
    "            data_list.append(data)\n",
    "\n",
    "    df = pd.DataFrame(data_list, columns=columns_slot)\n",
    "    #新增日期欄位為date轉為日期格式\n",
    "    df['date'] = pd.to_datetime(date)\n",
    "    return df\n",
    "for d in a_list[:14]:\n",
    "    try :\n",
    "\n",
    "        df = get_slot_data(date =d , brand=  'マルハン' , storename= '石和店')\n",
    "        #每個df concat起來\n",
    "        if d == a_list[0]:\n",
    "            df_all = df\n",
    "        else:\n",
    "            df_all = pd.concat([df_all, df], axis=0)\n",
    "    except exception as e:\n",
    "        print(e)\n",
    "        print(f'{d} is not available')\n",
    "\n",
    "#------------------------------------------------\n",
    "#用差枚總數排行\n",
    "df_all['差枚'] = df_all['差枚'].str.replace(',', '').str.replace('+', '').astype(int)\n",
    "top10_coins = df_all.groupby('台番号')['差枚'].sum().sort_values(ascending=False).head(10)\n",
    "df_all['win'] = df_all['差枚'].apply(lambda x: 1 if x > 0 else 0)\n",
    "#top10.index 篩選df_all['台號'] == top10.index\n",
    "df_top10_coins = df_all[df_all['台番号'].isin(top10_coins.index)]\n",
    "#計算top10的WIN RATE\n",
    "top10_coins_win_rate = df_top10_coins.groupby('台番号')['win'].mean().sort_values(ascending=False).head(10)\n",
    "df_final_coins = pd.merge(top10_coins, top10_coins_win_rate, on='台番号', how='left')\n",
    "print(df_final_coins)\n",
    "\n",
    "#------------------------------------------------\n",
    "#計算['win']裡的1的比例 groupby 台號\n",
    "win_rate_top10  = df_all.groupby('台番号')['win'].mean().sort_values(ascending=False).head(10)\n",
    "#merge對應的差枚\n",
    "top10_win_rate_coins = df_all[df_all['台番号'].isin(win_rate_top10.index)]\n",
    "top10_win_rate_coins = top10_win_rate_coins.groupby('台番号')['差枚'].sum()\n",
    "df_final_win_rate = pd.merge( win_rate_top10,top10_win_rate_coins , on='台番号', how='left')\n",
    "print(df_final_win_rate)"
   ]
  },
  {
   "cell_type": "markdown",
   "metadata": {},
   "source": [
    "以下分析"
   ]
  },
  {
   "cell_type": "code",
   "execution_count": null,
   "metadata": {},
   "outputs": [],
   "source": [
    "df_all['差枚'] = df_all['差枚'].str.replace(',', '').str.replace('+', '').astype(int)\n",
    "#差枚欄位改為int\n",
    "df_all['差枚'].astype(int)"
   ]
  },
  {
   "cell_type": "code",
   "execution_count": null,
   "metadata": {},
   "outputs": [],
   "source": [
    "#小丑\n",
    "dic = {1 : 1/163.8 ,\n",
    "2 : 1/159.1\n",
    ",3 : 1/148.6\n",
    ",4 : 1/135.2\n",
    ",5 : 1/126.8\n",
    ",6 : 1/114.6}"
   ]
  },
  {
   "cell_type": "code",
   "execution_count": null,
   "metadata": {},
   "outputs": [],
   "source": [
    "dic.values()"
   ]
  },
  {
   "cell_type": "code",
   "execution_count": null,
   "metadata": {},
   "outputs": [],
   "source": [
    "def safe_division(x):\n",
    "    try:\n",
    "        return eval(x) if '/' in x else float(x)\n",
    "    except ZeroDivisionError:\n",
    "        return 0  # 或者其他你希望在分母為零時返回的值\n",
    "\n",
    "df_all['合成確率'] = df_all['合成確率'].apply(safe_division)\n",
    "df_all['合成確率'].astype(float)"
   ]
  },
  {
   "cell_type": "code",
   "execution_count": null,
   "metadata": {},
   "outputs": [],
   "source": [
    "min(dic.values(), key=lambda x:abs(x-0.006))"
   ]
  },
  {
   "cell_type": "code",
   "execution_count": null,
   "metadata": {},
   "outputs": [],
   "source": [
    "#最接近dic 的value給予其key 例如最接近 1/163.8 的值為1 , 1/159.1 的值為2\n",
    "def find_nearest(dic , value):\n",
    "    nearest = min(dic.values(), key=lambda x:abs(x-value))\n",
    "    for k, v in dic.items():\n",
    "        if v == nearest:\n",
    "            return k\n"
   ]
  },
  {
   "cell_type": "code",
   "execution_count": null,
   "metadata": {},
   "outputs": [],
   "source": [
    "#新增一個欄位並套用find_nearest function\n",
    "df_all['合成確率_rank'] = df_all['合成確率'].apply(lambda x : find_nearest(dic , x))"
   ]
  },
  {
   "cell_type": "code",
   "execution_count": null,
   "metadata": {},
   "outputs": [],
   "source": [
    "マイジャグラーV = df_all[df_all['機種名']=='マイジャグラーV'].sort_index(ascending=True)"
   ]
  },
  {
   "cell_type": "code",
   "execution_count": null,
   "metadata": {},
   "outputs": [],
   "source": [
    "マイジャグラーV.to_csv('マイジャグラーV.csv', index=False)"
   ]
  },
  {
   "cell_type": "code",
   "execution_count": null,
   "metadata": {},
   "outputs": [],
   "source": [
    "df_all.to_csv('slot_data_マルハン石和店_20240514.csv', index=False)"
   ]
  },
  {
   "cell_type": "code",
   "execution_count": null,
   "metadata": {},
   "outputs": [],
   "source": []
  },
  {
   "cell_type": "code",
   "execution_count": null,
   "metadata": {},
   "outputs": [],
   "source": [
    "#test for the data image\n",
    "\n",
    "respinse = requests.get('https://ana-slo.com/2024-05-07-%e3%83%9e%e3%83%ab%e3%83%8f%e3%83%b3%e7%9f%b3%e5%92%8c%e5%ba%97-data/')\n",
    "soup = BeautifulSoup(respinse.text, 'html.parser')\n",
    "\n",
    "div = soup.find_all('div', id='tab02_0')\n",
    "#找到div裡的script  \n",
    "script = div[0].find_all('script')\n",
    "len(script)\n",
    "#提取script裡的 x_value , y_value\n",
    "x_value = script[0].text.split('x_value = ')[1].split(';')[0]\n",
    "y_value = script[0].text.split('y_value = ')[1].split(';')[0]\n",
    "#用x_value , y_value 劃出折線圖\n",
    "import matplotlib.pyplot as plt\n",
    "x = json.loads(x_value)\n",
    "y = json.loads(y_value)\n",
    "plt.plot(x, y)\n",
    "plt.show()\n",
    "\n"
   ]
  }
 ],
 "metadata": {
  "kernelspec": {
   "display_name": "Python 3",
   "language": "python",
   "name": "python3"
  },
  "language_info": {
   "codemirror_mode": {
    "name": "ipython",
    "version": 3
   },
   "file_extension": ".py",
   "mimetype": "text/x-python",
   "name": "python",
   "nbconvert_exporter": "python",
   "pygments_lexer": "ipython3",
   "version": "3.11.9"
  }
 },
 "nbformat": 4,
 "nbformat_minor": 2
}
