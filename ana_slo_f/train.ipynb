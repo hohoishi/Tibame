{
 "cells": [
  {
   "cell_type": "code",
   "execution_count": 61,
   "metadata": {},
   "outputs": [
    {
     "data": {
      "text/html": [
       "<div>\n",
       "<style scoped>\n",
       "    .dataframe tbody tr th:only-of-type {\n",
       "        vertical-align: middle;\n",
       "    }\n",
       "\n",
       "    .dataframe tbody tr th {\n",
       "        vertical-align: top;\n",
       "    }\n",
       "\n",
       "    .dataframe thead th {\n",
       "        text-align: right;\n",
       "    }\n",
       "</style>\n",
       "<table border=\"1\" class=\"dataframe\">\n",
       "  <thead>\n",
       "    <tr style=\"text-align: right;\">\n",
       "      <th></th>\n",
       "      <th>機種名</th>\n",
       "      <th>台番号</th>\n",
       "      <th>G数</th>\n",
       "      <th>差枚</th>\n",
       "      <th>BB</th>\n",
       "      <th>RB</th>\n",
       "      <th>合成確率</th>\n",
       "      <th>BB確率</th>\n",
       "      <th>RB確率</th>\n",
       "      <th>date</th>\n",
       "    </tr>\n",
       "  </thead>\n",
       "  <tbody>\n",
       "    <tr>\n",
       "      <th>0</th>\n",
       "      <td>マイジャグラーV</td>\n",
       "      <td>682</td>\n",
       "      <td>6,753</td>\n",
       "      <td>+2,500</td>\n",
       "      <td>31</td>\n",
       "      <td>30</td>\n",
       "      <td>1/110.7</td>\n",
       "      <td>1/217.8</td>\n",
       "      <td>1/225.1</td>\n",
       "      <td>2024-05-14</td>\n",
       "    </tr>\n",
       "    <tr>\n",
       "      <th>1</th>\n",
       "      <td>マイジャグラーV</td>\n",
       "      <td>683</td>\n",
       "      <td>1,232</td>\n",
       "      <td>-700</td>\n",
       "      <td>2</td>\n",
       "      <td>3</td>\n",
       "      <td>1/246.4</td>\n",
       "      <td>1/616.0</td>\n",
       "      <td>1/410.7</td>\n",
       "      <td>2024-05-14</td>\n",
       "    </tr>\n",
       "    <tr>\n",
       "      <th>2</th>\n",
       "      <td>マイジャグラーV</td>\n",
       "      <td>684</td>\n",
       "      <td>4,168</td>\n",
       "      <td>-500</td>\n",
       "      <td>15</td>\n",
       "      <td>9</td>\n",
       "      <td>1/173.7</td>\n",
       "      <td>1/277.9</td>\n",
       "      <td>1/463.1</td>\n",
       "      <td>2024-05-14</td>\n",
       "    </tr>\n",
       "    <tr>\n",
       "      <th>3</th>\n",
       "      <td>マイジャグラーV</td>\n",
       "      <td>685</td>\n",
       "      <td>4,140</td>\n",
       "      <td>+600</td>\n",
       "      <td>18</td>\n",
       "      <td>14</td>\n",
       "      <td>1/129.4</td>\n",
       "      <td>1/230.0</td>\n",
       "      <td>1/295.7</td>\n",
       "      <td>2024-05-14</td>\n",
       "    </tr>\n",
       "    <tr>\n",
       "      <th>4</th>\n",
       "      <td>マイジャグラーV</td>\n",
       "      <td>686</td>\n",
       "      <td>2,038</td>\n",
       "      <td>-700</td>\n",
       "      <td>5</td>\n",
       "      <td>6</td>\n",
       "      <td>1/185.3</td>\n",
       "      <td>1/407.6</td>\n",
       "      <td>1/339.7</td>\n",
       "      <td>2024-05-14</td>\n",
       "    </tr>\n",
       "    <tr>\n",
       "      <th>...</th>\n",
       "      <td>...</td>\n",
       "      <td>...</td>\n",
       "      <td>...</td>\n",
       "      <td>...</td>\n",
       "      <td>...</td>\n",
       "      <td>...</td>\n",
       "      <td>...</td>\n",
       "      <td>...</td>\n",
       "      <td>...</td>\n",
       "      <td>...</td>\n",
       "    </tr>\n",
       "    <tr>\n",
       "      <th>89037</th>\n",
       "      <td>アラジンAクラシック</td>\n",
       "      <td>670</td>\n",
       "      <td>1,182</td>\n",
       "      <td>-500</td>\n",
       "      <td>11</td>\n",
       "      <td>2</td>\n",
       "      <td>1/90.9</td>\n",
       "      <td>1/107.5</td>\n",
       "      <td>1/591.0</td>\n",
       "      <td>2023-04-15</td>\n",
       "    </tr>\n",
       "    <tr>\n",
       "      <th>89038</th>\n",
       "      <td>頭文字D</td>\n",
       "      <td>671</td>\n",
       "      <td>2,818</td>\n",
       "      <td>+1,200</td>\n",
       "      <td>20</td>\n",
       "      <td>24</td>\n",
       "      <td>1/64.0</td>\n",
       "      <td>1/140.9</td>\n",
       "      <td>1/117.4</td>\n",
       "      <td>2023-04-15</td>\n",
       "    </tr>\n",
       "    <tr>\n",
       "      <th>89039</th>\n",
       "      <td>バイオハザード7 レジデント イービル</td>\n",
       "      <td>672</td>\n",
       "      <td>3,016</td>\n",
       "      <td>+100</td>\n",
       "      <td>45</td>\n",
       "      <td>4</td>\n",
       "      <td>1/61.6</td>\n",
       "      <td>1/67.0</td>\n",
       "      <td>1/754.0</td>\n",
       "      <td>2023-04-15</td>\n",
       "    </tr>\n",
       "    <tr>\n",
       "      <th>89040</th>\n",
       "      <td>モンキーターンⅣ</td>\n",
       "      <td>673</td>\n",
       "      <td>2,289</td>\n",
       "      <td>-2,400</td>\n",
       "      <td>4</td>\n",
       "      <td>3</td>\n",
       "      <td>1/327.0</td>\n",
       "      <td>1/572.2</td>\n",
       "      <td>1/763.0</td>\n",
       "      <td>2023-04-15</td>\n",
       "    </tr>\n",
       "    <tr>\n",
       "      <th>89041</th>\n",
       "      <td>主役は銭形3</td>\n",
       "      <td>674</td>\n",
       "      <td>712</td>\n",
       "      <td>+400</td>\n",
       "      <td>4</td>\n",
       "      <td>2</td>\n",
       "      <td>1/118.7</td>\n",
       "      <td>1/178.0</td>\n",
       "      <td>1/356.0</td>\n",
       "      <td>2023-04-15</td>\n",
       "    </tr>\n",
       "  </tbody>\n",
       "</table>\n",
       "<p>89042 rows × 10 columns</p>\n",
       "</div>"
      ],
      "text/plain": [
       "                       機種名  台番号     G数      差枚  BB  RB     合成確率     BB確率  \\\n",
       "0                 マイジャグラーV  682  6,753  +2,500  31  30  1/110.7  1/217.8   \n",
       "1                 マイジャグラーV  683  1,232    -700   2   3  1/246.4  1/616.0   \n",
       "2                 マイジャグラーV  684  4,168    -500  15   9  1/173.7  1/277.9   \n",
       "3                 マイジャグラーV  685  4,140    +600  18  14  1/129.4  1/230.0   \n",
       "4                 マイジャグラーV  686  2,038    -700   5   6  1/185.3  1/407.6   \n",
       "...                    ...  ...    ...     ...  ..  ..      ...      ...   \n",
       "89037           アラジンAクラシック  670  1,182    -500  11   2   1/90.9  1/107.5   \n",
       "89038                 頭文字D  671  2,818  +1,200  20  24   1/64.0  1/140.9   \n",
       "89039  バイオハザード7 レジデント イービル  672  3,016    +100  45   4   1/61.6   1/67.0   \n",
       "89040             モンキーターンⅣ  673  2,289  -2,400   4   3  1/327.0  1/572.2   \n",
       "89041               主役は銭形3  674    712    +400   4   2  1/118.7  1/178.0   \n",
       "\n",
       "          RB確率        date  \n",
       "0      1/225.1  2024-05-14  \n",
       "1      1/410.7  2024-05-14  \n",
       "2      1/463.1  2024-05-14  \n",
       "3      1/295.7  2024-05-14  \n",
       "4      1/339.7  2024-05-14  \n",
       "...        ...         ...  \n",
       "89037  1/591.0  2023-04-15  \n",
       "89038  1/117.4  2023-04-15  \n",
       "89039  1/754.0  2023-04-15  \n",
       "89040  1/763.0  2023-04-15  \n",
       "89041  1/356.0  2023-04-15  \n",
       "\n",
       "[89042 rows x 10 columns]"
      ]
     },
     "execution_count": 61,
     "metadata": {},
     "output_type": "execute_result"
    }
   ],
   "source": [
    "import pandas as pd\n",
    "\n",
    "df =pd.read_csv('slot_data_マルハン石和店_20240514.csv')\n",
    "df"
   ]
  },
  {
   "cell_type": "code",
   "execution_count": 62,
   "metadata": {},
   "outputs": [
    {
     "name": "stdout",
     "output_type": "stream",
     "text": [
      "<class 'pandas.core.frame.DataFrame'>\n",
      "RangeIndex: 89042 entries, 0 to 89041\n",
      "Data columns (total 3 columns):\n",
      " #   Column  Non-Null Count  Dtype \n",
      "---  ------  --------------  ----- \n",
      " 0   台番号     89042 non-null  int64 \n",
      " 1   差枚      89042 non-null  object\n",
      " 2   date    89042 non-null  object\n",
      "dtypes: int64(1), object(2)\n",
      "memory usage: 2.0+ MB\n"
     ]
    }
   ],
   "source": [
    "train = df[['台番号','差枚','date']]\n",
    "train.info()"
   ]
  },
  {
   "cell_type": "code",
   "execution_count": 63,
   "metadata": {},
   "outputs": [],
   "source": [
    "train['差枚'] = train['差枚'].str.replace(',', '').str.replace('+', '').astype(int)\n",
    "train['date'] = pd.to_datetime(train['date'])"
   ]
  },
  {
   "cell_type": "code",
   "execution_count": 64,
   "metadata": {},
   "outputs": [],
   "source": [
    "train['date_num'] = train['date'].dt.strftime('%Y%m%d').astype(str)\n",
    "train['month'] = train['date'].dt.month.astype(int)\n",
    "train['tens_digit'] = train['date_num'].str[-2].astype(int)\n",
    "train['units_digit'] = train['date_num'].str[-1].astype(int)\n"
   ]
  },
  {
   "cell_type": "code",
   "execution_count": 93,
   "metadata": {},
   "outputs": [
    {
     "data": {
      "text/plain": [
       "array([4, 3, 2, 1, 0, 9, 8, 7, 6, 5])"
      ]
     },
     "execution_count": 93,
     "metadata": {},
     "output_type": "execute_result"
    }
   ],
   "source": [
    "train['units_digit'].unique()"
   ]
  },
  {
   "cell_type": "code",
   "execution_count": 66,
   "metadata": {},
   "outputs": [
    {
     "name": "stdout",
     "output_type": "stream",
     "text": [
      "       台番号  month  tens_digit  units_digit\n",
      "0      682      5           1            4\n",
      "1      683      5           1            4\n",
      "2      684      5           1            4\n",
      "3      685      5           1            4\n",
      "4      686      5           1            4\n",
      "...    ...    ...         ...          ...\n",
      "89037  670      4           1            5\n",
      "89038  671      4           1            5\n",
      "89039  672      4           1            5\n",
      "89040  673      4           1            5\n",
      "89041  674      4           1            5\n",
      "\n",
      "[89042 rows x 4 columns]\n",
      "0        2500\n",
      "1        -700\n",
      "2        -500\n",
      "3         600\n",
      "4        -700\n",
      "         ... \n",
      "89037    -500\n",
      "89038    1200\n",
      "89039     100\n",
      "89040   -2400\n",
      "89041     400\n",
      "Name: 差枚, Length: 89042, dtype: int32\n"
     ]
    }
   ],
   "source": [
    "y = train['差枚']\n",
    "x = train.drop(['差枚','date','date_num'], axis=1)\n",
    "print(x)\n",
    "print(y)"
   ]
  },
  {
   "cell_type": "code",
   "execution_count": 88,
   "metadata": {},
   "outputs": [
    {
     "data": {
      "text/plain": [
       "array([483, 484, 485, 486, 487, 488, 489, 490, 491, 492, 493, 494, 495,\n",
       "       496, 497, 498, 499, 500, 502, 503, 504, 505, 506, 507, 508, 509,\n",
       "       510, 511, 512, 513, 514, 515, 516, 517, 518, 519, 522, 523, 524,\n",
       "       525, 526, 527, 528, 529, 530, 531, 532, 533, 534, 535, 536, 537,\n",
       "       538, 539, 541, 542, 543, 544, 545, 546, 547, 548, 549, 550, 551,\n",
       "       552, 553, 554, 555, 556, 557, 558, 561, 562, 563, 564, 565, 566,\n",
       "       567, 568, 569, 570, 571, 572, 573, 574, 575, 576, 577, 578, 579,\n",
       "       580, 581, 582, 583, 584, 585, 586, 587, 588, 589, 590, 591, 592,\n",
       "       593, 594, 595, 596, 597, 598, 599, 600, 601, 602, 603, 604, 605,\n",
       "       606, 607, 608, 609, 610, 611, 612, 613, 614, 615, 616, 617, 618,\n",
       "       619, 620, 621, 622, 623, 624, 625, 626, 627, 628, 629, 630, 631,\n",
       "       632, 633, 634, 635, 636, 637, 638, 639, 640, 641, 642, 643, 644,\n",
       "       645, 646, 647, 648, 649, 650, 651, 652, 653, 654, 655, 656, 657,\n",
       "       658, 659, 660, 661, 662, 663, 664, 665, 666, 667, 668, 669, 670,\n",
       "       671, 672, 673, 674, 675, 676, 677, 678, 679, 680, 681, 682, 683,\n",
       "       684, 685, 686, 687, 688, 689, 690, 691, 692, 693, 694, 695, 696,\n",
       "       697, 698, 699, 700, 701, 702, 703, 704, 705, 706, 707, 708, 709,\n",
       "       710, 711, 712, 713, 714, 715, 716, 717, 718, 719, 720, 721, 722,\n",
       "       723, 724, 725, 726, 727, 728, 729, 730], dtype=int64)"
      ]
     },
     "execution_count": 88,
     "metadata": {},
     "output_type": "execute_result"
    }
   ],
   "source": [
    "x['台番号'].sort_values().unique()"
   ]
  },
  {
   "cell_type": "code",
   "execution_count": 90,
   "metadata": {},
   "outputs": [],
   "source": [
    "from sklearn.preprocessing import StandardScaler\n",
    "scaler = StandardScaler()\n",
    "scaler.fit(x)\n",
    "x = scaler.transform(x)"
   ]
  },
  {
   "cell_type": "code",
   "execution_count": 92,
   "metadata": {},
   "outputs": [
    {
     "data": {
      "text/plain": [
       "array([ 0.96161848, -0.37640205, -0.14086567, -0.15648727])"
      ]
     },
     "execution_count": 92,
     "metadata": {},
     "output_type": "execute_result"
    }
   ],
   "source": []
  },
  {
   "cell_type": "code",
   "execution_count": null,
   "metadata": {},
   "outputs": [],
   "source": [
    "import matplotlib.pyplot as plt\n",
    "from sklearn import linear_model\n",
    "from sklearn.model_selection import train_test_split\n",
    "from sklearn.metrics import mean_squared_error, r2_score\n",
    "\n",
    "x_train, x_test, y_train, y_test = train_test_split(x, y, test_size=0.2 )\n",
    "model = linear_model.LinearRegression()\n",
    "model.fit(x_train, y_train)\n",
    "y_pred = model.predict(x_test)\n"
   ]
  },
  {
   "cell_type": "code",
   "execution_count": null,
   "metadata": {},
   "outputs": [],
   "source": [
    "x_test = pd.DataFrame(x_test)"
   ]
  },
  {
   "cell_type": "code",
   "execution_count": null,
   "metadata": {},
   "outputs": [],
   "source": [
    "x_train[0]"
   ]
  },
  {
   "cell_type": "code",
   "execution_count": null,
   "metadata": {},
   "outputs": [],
   "source": [
    "# The coefficients\n",
    "print(f'Coefficients: {model.coef_}\\n')\n",
    "# The mean squared error\n",
    "print(f\"Mean squared error: {mean_squared_error(y_test, y_pred,squared=False)}\") \n",
    "# Explained variance score: 1 is perfect prediction\n",
    "print(f'Variance score: {r2_score(y_test, y_pred)}')"
   ]
  },
  {
   "cell_type": "code",
   "execution_count": null,
   "metadata": {},
   "outputs": [],
   "source": [
    " "
   ]
  },
  {
   "cell_type": "code",
   "execution_count": null,
   "metadata": {},
   "outputs": [],
   "source": [
    "# x_train, x_test, y_train, y_test = train_test_split(x, y, test_size=0.2, random_state=0)\n",
    "# reg = LazyRegressor(verbose=0, ignore_warnings=False, custom_metric=None)\n",
    "\n",
    "# models, predictions = reg.fit(x_train, x_test, y_train, y_test)\n",
    "# print(models)\n"
   ]
  }
 ],
 "metadata": {
  "kernelspec": {
   "display_name": "Python 3",
   "language": "python",
   "name": "python3"
  },
  "language_info": {
   "codemirror_mode": {
    "name": "ipython",
    "version": 3
   },
   "file_extension": ".py",
   "mimetype": "text/x-python",
   "name": "python",
   "nbconvert_exporter": "python",
   "pygments_lexer": "ipython3",
   "version": "3.11.9"
  }
 },
 "nbformat": 4,
 "nbformat_minor": 2
}
