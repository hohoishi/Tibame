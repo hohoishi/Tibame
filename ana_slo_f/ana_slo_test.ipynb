{
 "cells": [
  {
   "cell_type": "code",
   "execution_count": 2,
   "metadata": {},
   "outputs": [],
   "source": [
    "import requests\n",
    "import json\n",
    "from bs4 import BeautifulSoup\n",
    "import pandas as pd\n",
    "from threading import Thread"
   ]
  },
  {
   "cell_type": "code",
   "execution_count": 5,
   "metadata": {},
   "outputs": [
    {
     "name": "stdout",
     "output_type": "stream",
     "text": [
      "Fail to get slot data\n"
     ]
    },
    {
     "data": {
      "text/plain": [
       "<ana_slo.ana_slo at 0x7735ad77c0>"
      ]
     },
     "execution_count": 5,
     "metadata": {},
     "output_type": "execute_result"
    }
   ],
   "source": [
    "from ana_slo import ana_slo \n",
    "a = ana_slo('北海道', 'ロイヤル網走店')\n",
    "a"
   ]
  },
  {
   "cell_type": "code",
   "execution_count": 6,
   "metadata": {},
   "outputs": [
    {
     "name": "stderr",
     "output_type": "stream",
     "text": [
      "Exception in thread Thread-5 (_get_slot_data):\n",
      "Traceback (most recent call last):\n",
      "  File \"c:\\Users\\文傑\\AppData\\Local\\Programs\\Python\\Python310\\lib\\threading.py\", line 1016, in _bootstrap_inner\n",
      "    self.run()\n",
      "  File \"c:\\Users\\文傑\\AppData\\Local\\Programs\\Python\\Python310\\lib\\threading.py\", line 953, in run\n",
      "Exception in thread Thread-7 (_get_slot_data):\n",
      "Traceback (most recent call last):\n",
      "  File \"c:\\Users\\文傑\\AppData\\Local\\Programs\\Python\\Python310\\lib\\threading.py\", line 1016, in _bootstrap_inner\n",
      "    self._target(*self._args, **self._kwargs)\n",
      "  File \"c:\\Users\\文傑\\Desktop\\Tibame\\ana_slo_f\\ana_slo.py\", line 43, in _get_slot_data\n",
      "Exception in thread Thread-6 (_get_slot_data):\n",
      "Traceback (most recent call last):\n",
      "  File \"c:\\Users\\文傑\\AppData\\Local\\Programs\\Python\\Python310\\lib\\threading.py\", line 1016, in _bootstrap_inner\n",
      "    tr = div[0].find_all('tr')\n",
      "IndexError: list index out of range\n",
      "Exception in thread Thread-8 (_get_slot_data):\n",
      "Traceback (most recent call last):\n",
      "  File \"c:\\Users\\文傑\\AppData\\Local\\Programs\\Python\\Python310\\lib\\threading.py\", line 1016, in _bootstrap_inner\n",
      "    self.run()\n",
      "  File \"c:\\Users\\文傑\\AppData\\Local\\Programs\\Python\\Python310\\lib\\threading.py\", line 953, in run\n",
      "    self.run()\n",
      "  File \"c:\\Users\\文傑\\AppData\\Local\\Programs\\Python\\Python310\\lib\\threading.py\", line 953, in run\n",
      "    self.run()\n",
      "  File \"c:\\Users\\文傑\\AppData\\Local\\Programs\\Python\\Python310\\lib\\threading.py\", line 953, in run\n",
      "    self._target(*self._args, **self._kwargs)\n",
      "  File \"c:\\Users\\文傑\\Desktop\\Tibame\\ana_slo_f\\ana_slo.py\", line 43, in _get_slot_data\n",
      "        self._target(*self._args, **self._kwargs)\n",
      "  File \"c:\\Users\\文傑\\Desktop\\Tibame\\ana_slo_f\\ana_slo.py\", line 43, in _get_slot_data\n",
      "tr = div[0].find_all('tr')\n",
      "IndexError: list index out of range\n",
      "    self._target(*self._args, **self._kwargs)\n",
      "  File \"c:\\Users\\文傑\\Desktop\\Tibame\\ana_slo_f\\ana_slo.py\", line 43, in _get_slot_data\n",
      "    tr = div[0].find_all('tr')\n",
      "IndexError: list index out of range\n",
      "Exception in thread     Thread-11 (_get_slot_data):\n",
      "Traceback (most recent call last):\n",
      "  File \"c:\\Users\\文傑\\AppData\\Local\\Programs\\Python\\Python310\\lib\\threading.py\", line 1016, in _bootstrap_inner\n",
      "tr = div[0].find_all('tr')\n",
      "IndexError: list index out of range\n",
      "Exception in thread Thread-10 (_get_slot_data):\n",
      "Traceback (most recent call last):\n",
      "  File \"c:\\Users\\文傑\\AppData\\Local\\Programs\\Python\\Python310\\lib\\threading.py\", line 1016, in _bootstrap_inner\n",
      "    self.run()\n",
      "  File \"c:\\Users\\文傑\\AppData\\Local\\Programs\\Python\\Python310\\lib\\threading.py\", line 953, in run\n",
      "    self.run()\n",
      "  File \"c:\\Users\\文傑\\AppData\\Local\\Programs\\Python\\Python310\\lib\\threading.py\", line 953, in run\n",
      "Exception in thread Thread-13 (_get_slot_data):\n",
      "Traceback (most recent call last):\n",
      "  File \"c:\\Users\\文傑\\AppData\\Local\\Programs\\Python\\Python310\\lib\\threading.py\", line 1016, in _bootstrap_inner\n",
      "    self._target(*self._args, **self._kwargs)\n",
      "  File \"c:\\Users\\文傑\\Desktop\\Tibame\\ana_slo_f\\ana_slo.py\", line 43, in _get_slot_data\n",
      "    self.run()\n",
      "  File \"c:\\Users\\文傑\\AppData\\Local\\Programs\\Python\\Python310\\lib\\threading.py\", line 953, in run\n",
      "    self._target(*self._args, **self._kwargs)\n",
      "  File \"c:\\Users\\文傑\\Desktop\\Tibame\\ana_slo_f\\ana_slo.py\", line 43, in _get_slot_data\n",
      "    tr = div[0].find_all('tr')\n",
      "IndexError: list index out of range\n",
      "    tr = div[0].find_all('tr')\n",
      "IndexError: list index out of range\n",
      "    self._target(*self._args, **self._kwargs)\n",
      "  File \"c:\\Users\\文傑\\Desktop\\Tibame\\ana_slo_f\\ana_slo.py\", line 43, in _get_slot_data\n",
      "Exception in thread Thread-15 (_get_slot_data):\n",
      "Traceback (most recent call last):\n",
      "  File \"c:\\Users\\文傑\\AppData\\Local\\Programs\\Python\\Python310\\lib\\threading.py\", line 1016, in _bootstrap_inner\n",
      "    self.run()\n",
      "  File \"c:\\Users\\文傑\\AppData\\Local\\Programs\\Python\\Python310\\lib\\threading.py\", line 953, in run\n",
      "    tr = div[0].find_all('tr')\n",
      "IndexError: list index out of range\n",
      "    self._target(*self._args, **self._kwargs)\n",
      "  File \"c:\\Users\\文傑\\Desktop\\Tibame\\ana_slo_f\\ana_slo.py\", line 43, in _get_slot_data\n",
      "    tr = div[0].find_all('tr')\n",
      "IndexError: list index out of range\n",
      "Exception in thread Thread-16 (_get_slot_data):\n",
      "Traceback (most recent call last):\n",
      "  File \"c:\\Users\\文傑\\AppData\\Local\\Programs\\Python\\Python310\\lib\\threading.py\", line 1016, in _bootstrap_inner\n",
      "    self.run()\n",
      "  File \"c:\\Users\\文傑\\AppData\\Local\\Programs\\Python\\Python310\\lib\\threading.py\", line 953, in run\n",
      "    self._target(*self._args, **self._kwargs)\n",
      "  File \"c:\\Users\\文傑\\Desktop\\Tibame\\ana_slo_f\\ana_slo.py\", line 43, in _get_slot_data\n",
      "    tr = div[0].find_all('tr')\n",
      "IndexError: list index out of range\n",
      "Exception in thread Thread-18 (_get_slot_data):\n",
      "Traceback (most recent call last):\n",
      "  File \"c:\\Users\\文傑\\AppData\\Local\\Programs\\Python\\Python310\\lib\\threading.py\", line 1016, in _bootstrap_inner\n",
      "    self.run()\n",
      "  File \"c:\\Users\\文傑\\AppData\\Local\\Programs\\Python\\Python310\\lib\\threading.py\", line 953, in run\n",
      "    self._target(*self._args, **self._kwargs)\n",
      "  File \"c:\\Users\\文傑\\Desktop\\Tibame\\ana_slo_f\\ana_slo.py\", line 43, in _get_slot_data\n",
      "    tr = div[0].find_all('tr')\n",
      "IndexError: list index out of range\n",
      "Exception in thread Thread-9 (_get_slot_data):\n",
      "Traceback (most recent call last):\n",
      "  File \"c:\\Users\\文傑\\AppData\\Local\\Programs\\Python\\Python310\\lib\\threading.py\", line 1016, in _bootstrap_inner\n",
      "    self.run()\n",
      "  File \"c:\\Users\\文傑\\AppData\\Local\\Programs\\Python\\Python310\\lib\\threading.py\", line 953, in run\n",
      "    self._target(*self._args, **self._kwargs)\n",
      "  File \"c:\\Users\\文傑\\Desktop\\Tibame\\ana_slo_f\\ana_slo.py\", line 43, in _get_slot_data\n",
      "    tr = div[0].find_all('tr')\n",
      "IndexError: list index out of range\n",
      "Exception in thread Thread-14 (_get_slot_data):\n",
      "Traceback (most recent call last):\n",
      "  File \"c:\\Users\\文傑\\AppData\\Local\\Programs\\Python\\Python310\\lib\\threading.py\", line 1016, in _bootstrap_inner\n",
      "    self.run()\n",
      "  File \"c:\\Users\\文傑\\AppData\\Local\\Programs\\Python\\Python310\\lib\\threading.py\", line 953, in run\n",
      "    self._target(*self._args, **self._kwargs)\n",
      "  File \"c:\\Users\\文傑\\Desktop\\Tibame\\ana_slo_f\\ana_slo.py\", line 43, in _get_slot_data\n",
      "    tr = div[0].find_all('tr')\n",
      "IndexError: list index out of range\n",
      "Exception in thread Thread-17 (_get_slot_data):\n",
      "Traceback (most recent call last):\n",
      "  File \"c:\\Users\\文傑\\AppData\\Local\\Programs\\Python\\Python310\\lib\\threading.py\", line 1016, in _bootstrap_inner\n",
      "    self.run()\n",
      "  File \"c:\\Users\\文傑\\AppData\\Local\\Programs\\Python\\Python310\\lib\\threading.py\", line 953, in run\n",
      "    self._target(*self._args, **self._kwargs)\n",
      "  File \"c:\\Users\\文傑\\Desktop\\Tibame\\ana_slo_f\\ana_slo.py\", line 43, in _get_slot_data\n",
      "    tr = div[0].find_all('tr')\n",
      "IndexError: list index out of range\n",
      "Exception in thread Thread-12 (_get_slot_data):\n",
      "Traceback (most recent call last):\n",
      "  File \"c:\\Users\\文傑\\AppData\\Local\\Programs\\Python\\Python310\\lib\\threading.py\", line 1016, in _bootstrap_inner\n",
      "    self.run()\n",
      "  File \"c:\\Users\\文傑\\AppData\\Local\\Programs\\Python\\Python310\\lib\\threading.py\", line 953, in run\n",
      "    self._target(*self._args, **self._kwargs)\n",
      "  File \"c:\\Users\\文傑\\Desktop\\Tibame\\ana_slo_f\\ana_slo.py\", line 43, in _get_slot_data\n",
      "    tr = div[0].find_all('tr')\n",
      "IndexError: list index out of range\n"
     ]
    },
    {
     "data": {
      "text/plain": [
       "[]"
      ]
     },
     "execution_count": 6,
     "metadata": {},
     "output_type": "execute_result"
    }
   ],
   "source": [
    "a.get_slot_data_14()"
   ]
  },
  {
   "cell_type": "code",
   "execution_count": 1,
   "metadata": {},
   "outputs": [
    {
     "name": "stdout",
     "output_type": "stream",
     "text": [
      "東京都 アミューズ浅草店\n"
     ]
    }
   ],
   "source": [
    "import re\n",
    "pattern = r'^[^,]+,[^,]+$'\n",
    "user_message = '東京都,アミューズ浅草店'\n",
    "if  re.match(pattern, user_message):\n",
    "    country,storename = user_message.split(',')\n",
    "    print(country,storename)"
   ]
  },
  {
   "cell_type": "code",
   "execution_count": 29,
   "metadata": {},
   "outputs": [],
   "source": [
    "#the main function\n",
    "\n",
    "class ana_slo_crawler:\n",
    "\n",
    "    def __init__(self, country, store):\n",
    "        \n",
    "        response = requests.get(f'https://ana-slo.com/ホールデータ/{country}/{store}-データ一覧/', headers=__class__.headers)\n",
    "        soup = BeautifulSoup(response.text, 'html.parser')\n",
    "        table = soup.find('div' , id= 'table')\n",
    "\n",
    "        #找到所有有 a 的日期\n",
    "        a = table.find_all('a')\n",
    "        a_list = []\n",
    "        for date in a:\n",
    "            a_list.append(date.text.strip()[:10].replace('/', '-'))\n",
    "        self.a_list = a_list\n",
    "\n",
    "        self.store = store \n",
    "\n",
    "        response = requests.get(f'https://ana-slo.com/{self.a_list[0]}-{store}-data/', headers=__class__.headers)\n",
    "        soup = BeautifulSoup(response.text, 'html.parser')\n",
    "        div = soup.find_all('div', id='all_data_block')\n",
    "        tr = div[0].find_all('tr')\n",
    "        columns_slot = tr[0].text.strip().split('\\n')\n",
    "        columns_slot.append('DATE')\n",
    "        self.columns_slot = columns_slot\n",
    "        #['機種名', '台番号', 'G数', '差枚', 'BB', 'RB', '合成確率', 'BB確率', 'RB確率','DATE']\n",
    "\n",
    "    def get_slot_data_14(self):  \n",
    "\n",
    "        def _get_slot_data(date , store):\n",
    "            nonlocal data_list\n",
    "\n",
    "            response = requests.get(f'https://ana-slo.com/{date}-{store}-data/', headers=__class__.headers)\n",
    "            soup = BeautifulSoup(response.text, 'html.parser')\n",
    "\n",
    "            div = soup.find_all('div', id='all_data_block')\n",
    "            tr = div[0].find_all('tr')\n",
    "            columns_slot = tr[0].text.strip().split('\\n')\n",
    "\n",
    "            for td in tr[1:len(tr)]:\n",
    "                data = td.text.strip().split('\\n')\n",
    "                if len(data)==len(columns_slot):\n",
    "                    data.append(date)\n",
    "                    data_list.append(data)\n",
    "\n",
    "        data_list = []\n",
    "        ths = [None] * len(self.a_list[:14])\n",
    "        for i in range(len(self.a_list[:14])):\n",
    "            ths[i] = Thread(target=_get_slot_data, args=(self.a_list[i],self.store ), daemon=True)\n",
    "            ths[i].start()\n",
    "\n",
    "        for i in range(len(self.a_list[:14])):\n",
    "            ths[i].join()   \n",
    "            \n",
    "        return data_list"
   ]
  },
  {
   "cell_type": "code",
   "execution_count": 31,
   "metadata": {},
   "outputs": [
    {
     "ename": "IndexError",
     "evalue": "list index out of range",
     "output_type": "error",
     "traceback": [
      "\u001b[1;31m---------------------------------------------------------------------------\u001b[0m",
      "\u001b[1;31mIndexError\u001b[0m                                Traceback (most recent call last)",
      "\u001b[1;32mc:\\Users\\文傑\\Desktop\\Tibame\\ana_slo_f\\ana_slo_test.ipynb 儲存格 9\u001b[0m in \u001b[0;36m1\n\u001b[1;32m----> <a href='vscode-notebook-cell:/c%3A/Users/%E6%96%87%E5%82%91/Desktop/Tibame/ana_slo_f/ana_slo_test.ipynb#W3sZmlsZQ%3D%3D?line=0'>1</a>\u001b[0m data \u001b[39m=\u001b[39m ana_slo_crawler(\u001b[39m'\u001b[39;49m\u001b[39m北海道\u001b[39;49m\u001b[39m'\u001b[39;49m,\u001b[39m'\u001b[39;49m\u001b[39mロイヤル網走店\u001b[39;49m\u001b[39m'\u001b[39;49m)\n\u001b[0;32m      <a href='vscode-notebook-cell:/c%3A/Users/%E6%96%87%E5%82%91/Desktop/Tibame/ana_slo_f/ana_slo_test.ipynb#W3sZmlsZQ%3D%3D?line=1'>2</a>\u001b[0m \u001b[39mprint\u001b[39m(data\u001b[39m.\u001b[39ma_list )\n\u001b[0;32m      <a href='vscode-notebook-cell:/c%3A/Users/%E6%96%87%E5%82%91/Desktop/Tibame/ana_slo_f/ana_slo_test.ipynb#W3sZmlsZQ%3D%3D?line=2'>3</a>\u001b[0m \u001b[39mprint\u001b[39m(data\u001b[39m.\u001b[39mstore )\n",
      "\u001b[1;32mc:\\Users\\文傑\\Desktop\\Tibame\\ana_slo_f\\ana_slo_test.ipynb 儲存格 9\u001b[0m in \u001b[0;36m2\n\u001b[0;32m     <a href='vscode-notebook-cell:/c%3A/Users/%E6%96%87%E5%82%91/Desktop/Tibame/ana_slo_f/ana_slo_test.ipynb#W3sZmlsZQ%3D%3D?line=21'>22</a>\u001b[0m soup \u001b[39m=\u001b[39m BeautifulSoup(response\u001b[39m.\u001b[39mtext, \u001b[39m'\u001b[39m\u001b[39mhtml.parser\u001b[39m\u001b[39m'\u001b[39m)\n\u001b[0;32m     <a href='vscode-notebook-cell:/c%3A/Users/%E6%96%87%E5%82%91/Desktop/Tibame/ana_slo_f/ana_slo_test.ipynb#W3sZmlsZQ%3D%3D?line=22'>23</a>\u001b[0m div \u001b[39m=\u001b[39m soup\u001b[39m.\u001b[39mfind_all(\u001b[39m'\u001b[39m\u001b[39mdiv\u001b[39m\u001b[39m'\u001b[39m, \u001b[39mid\u001b[39m\u001b[39m=\u001b[39m\u001b[39m'\u001b[39m\u001b[39mall_data_block\u001b[39m\u001b[39m'\u001b[39m)\n\u001b[1;32m---> <a href='vscode-notebook-cell:/c%3A/Users/%E6%96%87%E5%82%91/Desktop/Tibame/ana_slo_f/ana_slo_test.ipynb#W3sZmlsZQ%3D%3D?line=23'>24</a>\u001b[0m tr \u001b[39m=\u001b[39m div[\u001b[39m0\u001b[39;49m]\u001b[39m.\u001b[39mfind_all(\u001b[39m'\u001b[39m\u001b[39mtr\u001b[39m\u001b[39m'\u001b[39m)\n\u001b[0;32m     <a href='vscode-notebook-cell:/c%3A/Users/%E6%96%87%E5%82%91/Desktop/Tibame/ana_slo_f/ana_slo_test.ipynb#W3sZmlsZQ%3D%3D?line=24'>25</a>\u001b[0m columns_slot \u001b[39m=\u001b[39m tr[\u001b[39m0\u001b[39m]\u001b[39m.\u001b[39mtext\u001b[39m.\u001b[39mstrip()\u001b[39m.\u001b[39msplit(\u001b[39m'\u001b[39m\u001b[39m\\n\u001b[39;00m\u001b[39m'\u001b[39m)\n\u001b[0;32m     <a href='vscode-notebook-cell:/c%3A/Users/%E6%96%87%E5%82%91/Desktop/Tibame/ana_slo_f/ana_slo_test.ipynb#W3sZmlsZQ%3D%3D?line=25'>26</a>\u001b[0m columns_slot\u001b[39m.\u001b[39mappend(\u001b[39m'\u001b[39m\u001b[39mDATE\u001b[39m\u001b[39m'\u001b[39m)\n",
      "\u001b[1;31mIndexError\u001b[0m: list index out of range"
     ]
    }
   ],
   "source": [
    "data = ana_slo_crawler('北海道','ロイヤル網走店')\n",
    "print(data.a_list )\n",
    "print(data.store )\n",
    "print(data.columns_slot)\n"
   ]
  },
  {
   "cell_type": "code",
   "execution_count": 41,
   "metadata": {},
   "outputs": [
    {
     "data": {
      "text/html": [
       "<div>\n",
       "<style scoped>\n",
       "    .dataframe tbody tr th:only-of-type {\n",
       "        vertical-align: middle;\n",
       "    }\n",
       "\n",
       "    .dataframe tbody tr th {\n",
       "        vertical-align: top;\n",
       "    }\n",
       "\n",
       "    .dataframe thead th {\n",
       "        text-align: right;\n",
       "    }\n",
       "</style>\n",
       "<table border=\"1\" class=\"dataframe\">\n",
       "  <thead>\n",
       "    <tr style=\"text-align: right;\">\n",
       "      <th></th>\n",
       "      <th>機種名</th>\n",
       "      <th>台番号</th>\n",
       "      <th>G数</th>\n",
       "      <th>差枚</th>\n",
       "      <th>BB</th>\n",
       "      <th>RB</th>\n",
       "      <th>合成確率</th>\n",
       "      <th>BB確率</th>\n",
       "      <th>RB確率</th>\n",
       "      <th>DATE</th>\n",
       "    </tr>\n",
       "  </thead>\n",
       "  <tbody>\n",
       "    <tr>\n",
       "      <th>0</th>\n",
       "      <td>アイムジャグラーEX-TP</td>\n",
       "      <td>482</td>\n",
       "      <td>1,590</td>\n",
       "      <td>-236</td>\n",
       "      <td>5</td>\n",
       "      <td>5</td>\n",
       "      <td>1/159.0</td>\n",
       "      <td>1/318.0</td>\n",
       "      <td>1/318.0</td>\n",
       "      <td>2024-07-26</td>\n",
       "    </tr>\n",
       "    <tr>\n",
       "      <th>1</th>\n",
       "      <td>アイムジャグラーEX-TP</td>\n",
       "      <td>484</td>\n",
       "      <td>2,066</td>\n",
       "      <td>-836</td>\n",
       "      <td>5</td>\n",
       "      <td>4</td>\n",
       "      <td>1/229.6</td>\n",
       "      <td>1/413.2</td>\n",
       "      <td>1/516.5</td>\n",
       "      <td>2024-07-26</td>\n",
       "    </tr>\n",
       "    <tr>\n",
       "      <th>2</th>\n",
       "      <td>アイムジャグラーEX-TP</td>\n",
       "      <td>486</td>\n",
       "      <td>1,812</td>\n",
       "      <td>-1,165</td>\n",
       "      <td>2</td>\n",
       "      <td>6</td>\n",
       "      <td>1/226.5</td>\n",
       "      <td>1/906.0</td>\n",
       "      <td>1/302.0</td>\n",
       "      <td>2024-07-26</td>\n",
       "    </tr>\n",
       "    <tr>\n",
       "      <th>3</th>\n",
       "      <td>アイムジャグラーEX-TP</td>\n",
       "      <td>488</td>\n",
       "      <td>3,068</td>\n",
       "      <td>-593</td>\n",
       "      <td>10</td>\n",
       "      <td>3</td>\n",
       "      <td>1/236.0</td>\n",
       "      <td>1/306.8</td>\n",
       "      <td>1/1022.7</td>\n",
       "      <td>2024-07-26</td>\n",
       "    </tr>\n",
       "    <tr>\n",
       "      <th>4</th>\n",
       "      <td>アイムジャグラーEX-TP</td>\n",
       "      <td>490</td>\n",
       "      <td>1,452</td>\n",
       "      <td>+178</td>\n",
       "      <td>6</td>\n",
       "      <td>2</td>\n",
       "      <td>1/181.5</td>\n",
       "      <td>1/242.0</td>\n",
       "      <td>1/726.0</td>\n",
       "      <td>2024-07-26</td>\n",
       "    </tr>\n",
       "  </tbody>\n",
       "</table>\n",
       "</div>"
      ],
      "text/plain": [
       "             機種名  台番号     G数      差枚  BB RB     合成確率     BB確率      RB確率  \\\n",
       "0  アイムジャグラーEX-TP  482  1,590    -236   5  5  1/159.0  1/318.0   1/318.0   \n",
       "1  アイムジャグラーEX-TP  484  2,066    -836   5  4  1/229.6  1/413.2   1/516.5   \n",
       "2  アイムジャグラーEX-TP  486  1,812  -1,165   2  6  1/226.5  1/906.0   1/302.0   \n",
       "3  アイムジャグラーEX-TP  488  3,068    -593  10  3  1/236.0  1/306.8  1/1022.7   \n",
       "4  アイムジャグラーEX-TP  490  1,452    +178   6  2  1/181.5  1/242.0   1/726.0   \n",
       "\n",
       "         DATE  \n",
       "0  2024-07-26  \n",
       "1  2024-07-26  \n",
       "2  2024-07-26  \n",
       "3  2024-07-26  \n",
       "4  2024-07-26  "
      ]
     },
     "execution_count": 41,
     "metadata": {},
     "output_type": "execute_result"
    }
   ],
   "source": [
    "df_all = pd.DataFrame(data.get_slot_data_14(), columns=data.columns_slot)\n",
    "df_all.head()"
   ]
  },
  {
   "cell_type": "code",
   "execution_count": 42,
   "metadata": {},
   "outputs": [
    {
     "name": "stdout",
     "output_type": "stream",
     "text": [
      "        差枚       win\n",
      "台番号                 \n",
      "520  32534  0.500000\n",
      "412  29940  0.357143\n",
      "457  26748  0.785714\n",
      "442  21070  0.642857\n",
      "427  19125  0.571429\n",
      "426  18217  0.642857\n",
      "501  16008  0.428571\n",
      "459  15621  0.500000\n",
      "429  15605  0.428571\n",
      "445  13926  0.428571\n",
      "          win     差枚\n",
      "台番号                 \n",
      "457  0.785714  26748\n",
      "426  0.642857  18217\n",
      "474  0.642857   5904\n",
      "461  0.642857   5902\n",
      "442  0.642857  21070\n",
      "535  0.571429   4755\n",
      "492  0.571429   1435\n",
      "542  0.571429   2809\n",
      "544  0.571429   1056\n",
      "434  0.571429  13309\n"
     ]
    },
    {
     "name": "stderr",
     "output_type": "stream",
     "text": [
      "C:\\Users\\文傑\\AppData\\Local\\Temp\\ipykernel_364600\\507179861.py:4: FutureWarning: The default value of regex will change from True to False in a future version. In addition, single character regular expressions will *not* be treated as literal strings when regex=True.\n",
      "  df_all['差枚'] = df_all['差枚'].str.replace(',', '').str.replace('+', '').astype(int)\n"
     ]
    }
   ],
   "source": [
    "\n",
    "#------------------------------------------------\n",
    "#用差枚總數排行\n",
    "df_all['差枚'] = df_all['差枚'].fillna(0)\n",
    "df_all['差枚'] = df_all['差枚'].str.replace(',', '').str.replace('+', '').astype(int)\n",
    "top10_coins = df_all.groupby('台番号')['差枚'].sum().sort_values(ascending=False).head(10)\n",
    "df_all['win'] = df_all['差枚'].apply(lambda x: 1 if x > 0 else 0)\n",
    "#top10.index 篩選df_all['台號'] == top10.index\n",
    "df_top10_coins = df_all[df_all['台番号'].isin(top10_coins.index)]\n",
    "#計算top10的WIN RATE\n",
    "top10_coins_win_rate = df_top10_coins.groupby('台番号')['win'].mean().sort_values(ascending=False).head(10)\n",
    "df_final_coins = pd.merge(top10_coins, top10_coins_win_rate, on='台番号', how='left')\n",
    "print(df_final_coins)\n",
    "\n",
    "#------------------------------------------------\n",
    "#計算['win']裡的1的比例 groupby 台號\n",
    "win_rate_top10  = df_all.groupby('台番号')['win'].mean().sort_values(ascending=False).head(10)\n",
    "#merge對應的差枚\n",
    "top10_win_rate_coins = df_all[df_all['台番号'].isin(win_rate_top10.index)]\n",
    "top10_win_rate_coins = top10_win_rate_coins.groupby('台番号')['差枚'].sum()\n",
    "df_final_win_rate = pd.merge( win_rate_top10,top10_win_rate_coins , on='台番号', how='left')\n",
    "print(df_final_win_rate)"
   ]
  },
  {
   "attachments": {},
   "cell_type": "markdown",
   "metadata": {},
   "source": [
    "以下分析"
   ]
  },
  {
   "cell_type": "code",
   "execution_count": null,
   "metadata": {},
   "outputs": [],
   "source": [
    "df_all['差枚'] = df_all['差枚'].str.replace(',', '').str.replace('+', '').astype(int)\n",
    "#差枚欄位改為int\n",
    "df_all['差枚'].astype(int)"
   ]
  },
  {
   "cell_type": "code",
   "execution_count": null,
   "metadata": {},
   "outputs": [],
   "source": [
    "#小丑\n",
    "dic = {1 : 1/163.8 ,\n",
    "2 : 1/159.1\n",
    ",3 : 1/148.6\n",
    ",4 : 1/135.2\n",
    ",5 : 1/126.8\n",
    ",6 : 1/114.6}"
   ]
  },
  {
   "cell_type": "code",
   "execution_count": null,
   "metadata": {},
   "outputs": [],
   "source": [
    "dic.values()"
   ]
  },
  {
   "cell_type": "code",
   "execution_count": null,
   "metadata": {},
   "outputs": [],
   "source": [
    "def safe_division(x):\n",
    "    try:\n",
    "        return eval(x) if '/' in x else float(x)\n",
    "    except ZeroDivisionError:\n",
    "        return 0  # 或者其他你希望在分母為零時返回的值\n",
    "\n",
    "df_all['合成確率'] = df_all['合成確率'].apply(safe_division)\n",
    "df_all['合成確率'].astype(float)"
   ]
  },
  {
   "cell_type": "code",
   "execution_count": null,
   "metadata": {},
   "outputs": [],
   "source": [
    "min(dic.values(), key=lambda x:abs(x-0.006))"
   ]
  },
  {
   "cell_type": "code",
   "execution_count": null,
   "metadata": {},
   "outputs": [],
   "source": [
    "#最接近dic 的value給予其key 例如最接近 1/163.8 的值為1 , 1/159.1 的值為2\n",
    "def find_nearest(dic , value):\n",
    "    nearest = min(dic.values(), key=lambda x:abs(x-value))\n",
    "    for k, v in dic.items():\n",
    "        if v == nearest:\n",
    "            return k\n"
   ]
  },
  {
   "cell_type": "code",
   "execution_count": null,
   "metadata": {},
   "outputs": [],
   "source": [
    "#新增一個欄位並套用find_nearest function\n",
    "df_all['合成確率_rank'] = df_all['合成確率'].apply(lambda x : find_nearest(dic , x))"
   ]
  },
  {
   "cell_type": "code",
   "execution_count": null,
   "metadata": {},
   "outputs": [],
   "source": [
    "マイジャグラーV = df_all[df_all['機種名']=='マイジャグラーV'].sort_index(ascending=True)"
   ]
  },
  {
   "cell_type": "code",
   "execution_count": null,
   "metadata": {},
   "outputs": [],
   "source": [
    "マイジャグラーV.to_csv('マイジャグラーV.csv', index=False)"
   ]
  },
  {
   "cell_type": "code",
   "execution_count": null,
   "metadata": {},
   "outputs": [],
   "source": [
    "df_all.to_csv('slot_data_マルハン石和店_20240514.csv', index=False)"
   ]
  },
  {
   "cell_type": "code",
   "execution_count": null,
   "metadata": {},
   "outputs": [],
   "source": []
  },
  {
   "cell_type": "code",
   "execution_count": null,
   "metadata": {},
   "outputs": [],
   "source": [
    "#test for the data image\n",
    "\n",
    "respinse = requests.get('https://ana-slo.com/2024-05-07-%e3%83%9e%e3%83%ab%e3%83%8f%e3%83%b3%e7%9f%b3%e5%92%8c%e5%ba%97-data/')\n",
    "soup = BeautifulSoup(respinse.text, 'html.parser')\n",
    "\n",
    "div = soup.find_all('div', id='tab02_0')\n",
    "#找到div裡的script  \n",
    "script = div[0].find_all('script')\n",
    "len(script)\n",
    "#提取script裡的 x_value , y_value\n",
    "x_value = script[0].text.split('x_value = ')[1].split(';')[0]\n",
    "y_value = script[0].text.split('y_value = ')[1].split(';')[0]\n",
    "#用x_value , y_value 劃出折線圖\n",
    "import matplotlib.pyplot as plt\n",
    "x = json.loads(x_value)\n",
    "y = json.loads(y_value)\n",
    "plt.plot(x, y)\n",
    "plt.show()\n",
    "\n"
   ]
  }
 ],
 "metadata": {
  "kernelspec": {
   "display_name": "Python 3",
   "language": "python",
   "name": "python3"
  },
  "language_info": {
   "codemirror_mode": {
    "name": "ipython",
    "version": 3
   },
   "file_extension": ".py",
   "mimetype": "text/x-python",
   "name": "python",
   "nbconvert_exporter": "python",
   "pygments_lexer": "ipython3",
   "version": "3.10.7"
  }
 },
 "nbformat": 4,
 "nbformat_minor": 2
}
