{
 "cells": [
  {
   "cell_type": "code",
   "execution_count": 1,
   "metadata": {},
   "outputs": [],
   "source": [
    "import requests\n",
    "import json\n",
    "from bs4 import BeautifulSoup\n",
    "import pandas as pd\n",
    "from threading import Thread"
   ]
  },
  {
   "cell_type": "code",
   "execution_count": null,
   "metadata": {},
   "outputs": [],
   "source": []
  },
  {
   "cell_type": "code",
   "execution_count": 16,
   "metadata": {},
   "outputs": [
    {
     "name": "stdout",
     "output_type": "stream",
     "text": [
      "403\n"
     ]
    }
   ],
   "source": [
    "headers = { 'User-Agent': 'Mozilla/5.0 (Windows NT 10.0; Win64; x64) AppleWebKit/537.36 (KHTML, like Gecko) Chrome/109.0.0.0 Safari/537.36' }\n",
    "\n",
    "response = requests.get(f'https://ana-slo.com/2024-09-08-ロイヤル網走店-data/' , headers=headers)\n",
    "print(response.status_code)\n",
    "# soup = BeautifulSoup(response.text, 'html.parser')\n",
    "# div = soup.find_all('div', id='all_data_block')\n",
    "# tr = div[0].find_all('tr')"
   ]
  },
  {
   "cell_type": "code",
   "execution_count": 12,
   "metadata": {},
   "outputs": [
    {
     "data": {
      "text/plain": [
       "<Response [403]>"
      ]
     },
     "execution_count": 12,
     "metadata": {},
     "output_type": "execute_result"
    }
   ],
   "source": [
    "response"
   ]
  },
  {
   "cell_type": "code",
   "execution_count": 9,
   "metadata": {},
   "outputs": [
    {
     "data": {
      "text/plain": [
       "'<!DOCTYPE html><html lang=\"en-US\"><head><title>Just a moment...</title><meta http-equiv=\"Content-Type\" content=\"text/html; charset=UTF-8\"><meta http-equiv=\"X-UA-Compatible\" content=\"IE=Edge\"><meta name=\"robots\" content=\"noindex,nofollow\"><meta name=\"viewport\" content=\"width=device-width,initial-scale=1\"><style>*{box-sizing:border-box;margin:0;padding:0}html{line-height:1.15;-webkit-text-size-adjust:100%;color:#313131}button,html{font-family:system-ui,-apple-system,BlinkMacSystemFont,Segoe UI,Roboto,Helvetica Neue,Arial,Noto Sans,sans-serif,Apple Color Emoji,Segoe UI Emoji,Segoe UI Symbol,Noto Color Emoji}body{display:flex;flex-direction:column;height:100vh;min-height:100vh}body.no-js .loading-spinner{visibility:hidden}body.theme-dark{background-color:#222;color:#d9d9d9}body.theme-dark a{color:#fff}body.theme-dark a:hover{color:#ee730a;text-decoration:underline}body.theme-dark .lds-ring div{border-color:#999 transparent transparent}body.theme-dark .font-red{color:#b20f03}body.theme-dark .pow-button{background-color:#4693ff;color:#1d1d1d}body.theme-dark #challenge-success-text{background-image:url(data:image/svg+xml;base64,PHN2ZyB4bWxucz0iaHR0cDovL3d3dy53My5vcmcvMjAwMC9zdmciIHdpZHRoPSIzMiIgaGVpZ2h0PSIzMiIgZmlsbD0ibm9uZSIgdmlld0JveD0iMCAwIDI2IDI2Ij48cGF0aCBmaWxsPSIjZDlkOWQ5IiBkPSJNMTMgMGExMyAxMyAwIDEgMCAwIDI2IDEzIDEzIDAgMCAwIDAtMjZtMCAyNGExMSAxMSAwIDEgMSAwLTIyIDExIDExIDAgMCAxIDAgMjIiLz48cGF0aCBmaWxsPSIjZDlkOWQ5IiBkPSJtMTAuOTU1IDE2LjA1NS0zLjk1LTQuMTI1LTEuNDQ1IDEuMzg1IDUuMzcgNS42MSA5LjQ5NS05LjYtMS40Mi0xLjQwNXoiLz48L3N2Zz4=)}body.theme-dark #challenge-error-text{background-image:url(data:image/svg+xml;base64,PHN2ZyB4bWxucz0iaHR0cDovL3d3dy53My5vcmcvMjAwMC9zdmciIHdpZHRoPSIzMiIgaGVpZ2h0PSIzMiIgZmlsbD0ibm9uZSI+PHBhdGggZmlsbD0iI0IyMEYwMyIgZD0iTTE2IDNhMTMgMTMgMCAxIDAgMTMgMTNBMTMuMDE1IDEzLjAxNSAwIDAgMCAxNiAzbTAgMjRhMTEgMTEgMCAxIDEgMTEtMTEgMTEuMDEgMTEuMDEgMCAwIDEtMTEgMTEiLz48cGF0aCBmaWxsPSIjQjIwRjAzIiBkPSJNMTcuMDM4IDE4LjYxNUgxNC44N0wxNC41NjMgOS41aDIuNzgzem0tMS4wODQgMS40MjdxLjY2IDAgMS4wNTcuMzg4LjQwNy4zODkuNDA3Ljk5NCAwIC41OTYtLjQwNy45ODQtLjM5Ny4zOS0xLjA1Ny4zODktLjY1IDAtMS4wNTYtLjM4OS0uMzk4LS4zODktLjM5OC0uOTg0IDAtLjU5Ny4zOTgtLjk4NS40MDYtLjM5NyAxLjA1Ni0uMzk3Ii8+PC9zdmc+)}body.theme-light{background-color:#fff;color:#313131}body.theme-light a{color:#0051c3}body.theme-light a:hover{color:#ee730a;text-decoration:underline}body.theme-light .lds-ring div{border-color:#595959 transparent transparent}body.theme-light .font-red{color:#fc574a}body.theme-light .pow-button{background-color:#003681;border-color:#003681;color:#fff}body.theme-light #challenge-success-text{background-image:url(data:image/svg+xml;base64,PHN2ZyB4bWxucz0iaHR0cDovL3d3dy53My5vcmcvMjAwMC9zdmciIHdpZHRoPSIzMiIgaGVpZ2h0PSIzMiIgZmlsbD0ibm9uZSIgdmlld0JveD0iMCAwIDI2IDI2Ij48cGF0aCBmaWxsPSIjMzEzMTMxIiBkPSJNMTMgMGExMyAxMyAwIDEgMCAwIDI2IDEzIDEzIDAgMCAwIDAtMjZtMCAyNGExMSAxMSAwIDEgMSAwLTIyIDExIDExIDAgMCAxIDAgMjIiLz48cGF0aCBmaWxsPSIjMzEzMTMxIiBkPSJtMTAuOTU1IDE2LjA1NS0zLjk1LTQuMTI1LTEuNDQ1IDEuMzg1IDUuMzcgNS42MSA5LjQ5NS05LjYtMS40Mi0xLjQwNXoiLz48L3N2Zz4=)}body.theme-light #challenge-error-text{background-image:url(data:image/svg+xml;base64,PHN2ZyB4bWxucz0iaHR0cDovL3d3dy53My5vcmcvMjAwMC9zdmciIHdpZHRoPSIzMiIgaGVpZ2h0PSIzMiIgZmlsbD0ibm9uZSI+PHBhdGggZmlsbD0iI2ZjNTc0YSIgZD0iTTE2IDNhMTMgMTMgMCAxIDAgMTMgMTNBMTMuMDE1IDEzLjAxNSAwIDAgMCAxNiAzbTAgMjRhMTEgMTEgMCAxIDEgMTEtMTEgMTEuMDEgMTEuMDEgMCAwIDEtMTEgMTEiLz48cGF0aCBmaWxsPSIjZmM1NzRhIiBkPSJNMTcuMDM4IDE4LjYxNUgxNC44N0wxNC41NjMgOS41aDIuNzgzem0tMS4wODQgMS40MjdxLjY2IDAgMS4wNTcuMzg4LjQwNy4zODkuNDA3Ljk5NCAwIC41OTYtLjQwNy45ODQtLjM5Ny4zOS0xLjA1Ny4zODktLjY1IDAtMS4wNTYtLjM4OS0uMzk4LS4zODktLjM5OC0uOTg0IDAtLjU5Ny4zOTgtLjk4NS40MDYtLjM5NyAxLjA1Ni0uMzk3Ii8+PC9zdmc+)}body.theme-light.feedback-report{border:1px solid #959595}body.feedback-report{border-radius:5px}a{background-color:transparent;color:#0051c3;text-decoration:none;transition:color .15s ease}a:hover{color:#ee730a;text-decoration:underline}.main-content{margin:8rem auto;max-width:60rem;padding-left:1.5rem;padding-right:1.5rem;width:100%}.main-content .spacer{margin:2rem 0}.main-content .loading-spinner{height:76.391px}.feedback-content{align-content:space-between;display:inline-grid;height:100vh;margin:0;padding:0}.feedback-content .spacer{margin:0}.heading-favicon{height:2rem;margin-right:.5rem;width:2rem}@media (width <= 720px){.main-content{margin-top:4rem}.heading-favicon{height:1.5rem;width:1.5rem}.feedback-content{margin-top:0}}.main-wrapper{align-items:center;display:flex;flex:1;flex-direction:column}.feedback-report .main-wrapper{min-height:100vh}.font-red{color:#b20f03}.h1{font-size:2.5rem;font-weight:500;line-height:3.75rem}.h2{font-weight:500}.core-msg,.h2{font-size:1.5rem;line-height:2.25rem}.body-text,.core-msg{font-weight:400}.body-text{font-size:1rem;line-height:1.25rem}@media (width <= 720px){.h1{font-size:1.5rem;line-height:1.75rem}.h2{font-size:1.25rem}.core-msg,.h2{line-height:1.5rem}.core-msg{font-size:1rem}}#challenge-error-text{background-image:url(data:image/svg+xml;base64,PHN2ZyB4bWxucz0iaHR0cDovL3d3dy53My5vcmcvMjAwMC9zdmciIHdpZHRoPSIzMiIgaGVpZ2h0PSIzMiIgZmlsbD0ibm9uZSI+PHBhdGggZmlsbD0iI2ZjNTc0YSIgZD0iTTE2IDNhMTMgMTMgMCAxIDAgMTMgMTNBMTMuMDE1IDEzLjAxNSAwIDAgMCAxNiAzbTAgMjRhMTEgMTEgMCAxIDEgMTEtMTEgMTEuMDEgMTEuMDEgMCAwIDEtMTEgMTEiLz48cGF0aCBmaWxsPSIjZmM1NzRhIiBkPSJNMTcuMDM4IDE4LjYxNUgxNC44N0wxNC41NjMgOS41aDIuNzgzem0tMS4wODQgMS40MjdxLjY2IDAgMS4wNTcuMzg4LjQwNy4zODkuNDA3Ljk5NCAwIC41OTYtLjQwNy45ODQtLjM5Ny4zOS0xLjA1Ny4zODktLjY1IDAtMS4wNTYtLjM4OS0uMzk4LS4zODktLjM5OC0uOTg0IDAtLjU5Ny4zOTgtLjk4NS40MDYtLjM5NyAxLjA1Ni0uMzk3Ii8+PC9zdmc+);padding-left:34px}#challenge-error-text,#challenge-success-text{background-repeat:no-repeat;background-size:contain}#challenge-success-text{background-image:url(data:image/svg+xml;base64,PHN2ZyB4bWxucz0iaHR0cDovL3d3dy53My5vcmcvMjAwMC9zdmciIHdpZHRoPSIzMiIgaGVpZ2h0PSIzMiIgZmlsbD0ibm9uZSIgdmlld0JveD0iMCAwIDI2IDI2Ij48cGF0aCBmaWxsPSIjMzEzMTMxIiBkPSJNMTMgMGExMyAxMyAwIDEgMCAwIDI2IDEzIDEzIDAgMCAwIDAtMjZtMCAyNGExMSAxMSAwIDEgMSAwLTIyIDExIDExIDAgMCAxIDAgMjIiLz48cGF0aCBmaWxsPSIjMzEzMTMxIiBkPSJtMTAuOTU1IDE2LjA1NS0zLjk1LTQuMTI1LTEuNDQ1IDEuMzg1IDUuMzcgNS42MSA5LjQ5NS05LjYtMS40Mi0xLjQwNXoiLz48L3N2Zz4=);padding-left:42px}.text-center{text-align:center}.pow-button{background-color:#0051c3;border:.063rem solid #0051c3;border-radius:.313rem;color:#fff;font-size:.875rem;line-height:1.313rem;margin:2rem 0;padding:.375rem 1rem;transition-duration:.2s;transition-property:background-color,border-color,color;transition-timing-function:ease}.pow-button:hover{background-color:#003681;border-color:#003681;color:#fff;cursor:pointer}.footer{font-size:.75rem;line-height:1.125rem;margin:0 auto;max-width:60rem;padding-left:1.5rem;padding-right:1.5rem;width:100%}.footer-inner{border-top:1px solid #d9d9d9;padding-bottom:1rem;padding-top:1rem}.clearfix:after{clear:both;content:\"\";display:table}.clearfix .column{float:left;padding-right:1.5rem;width:50%}.diagnostic-wrapper{margin-bottom:.5rem}.footer .ray-id{text-align:center}.footer .ray-id code{font-family:monaco,courier,monospace}.core-msg,.zone-name-title{overflow-wrap:break-word}@media (width <= 720px){.diagnostic-wrapper{display:flex;flex-wrap:wrap;justify-content:center}.clearfix:after{clear:none;content:none;display:initial;text-align:center}.column{padding-bottom:2rem}.clearfix .column{float:none;padding:0;width:auto;word-break:keep-all}.zone-name-title{margin-bottom:1rem}}.loading-spinner{height:76.391px}.lds-ring{display:inline-block;position:relative}.lds-ring,.lds-ring div{height:1.875rem;width:1.875rem}.lds-ring div{animation:lds-ring 1.2s cubic-bezier(.5,0,.5,1) infinite;border:.3rem solid transparent;border-radius:50%;border-top-color:#313131;box-sizing:border-box;display:block;position:absolute}.lds-ring div:first-child{animation-delay:-.45s}.lds-ring div:nth-child(2){animation-delay:-.3s}.lds-ring div:nth-child(3){animation-delay:-.15s}@keyframes lds-ring{0%{transform:rotate(0)}to{transform:rotate(1turn)}}@media screen and (-ms-high-contrast:active),screen and (-ms-high-contrast:none){.main-wrapper,body{display:block}}.rtl .heading-favicon{margin-left:.5rem;margin-right:0}.rtl #challenge-success-text{background-position:100%;padding-left:0;padding-right:42px}.rtl #challenge-error-text{background-position:100%;padding-left:0;padding-right:34px}.challenge-content .spacer{margin:2rem 0}.challenge-content .loading-spinner{height:76.391px}@media (prefers-color-scheme:dark){body{background-color:#222;color:#d9d9d9}body a{color:#fff}body a:hover{color:#ee730a;text-decoration:underline}body .lds-ring div{border-color:#999 transparent transparent}body .font-red{color:#b20f03}body .pow-button{background-color:#4693ff;color:#1d1d1d}body #challenge-success-text{background-image:url(data:image/svg+xml;base64,PHN2ZyB4bWxucz0iaHR0cDovL3d3dy53My5vcmcvMjAwMC9zdmciIHdpZHRoPSIzMiIgaGVpZ2h0PSIzMiIgZmlsbD0ibm9uZSIgdmlld0JveD0iMCAwIDI2IDI2Ij48cGF0aCBmaWxsPSIjZDlkOWQ5IiBkPSJNMTMgMGExMyAxMyAwIDEgMCAwIDI2IDEzIDEzIDAgMCAwIDAtMjZtMCAyNGExMSAxMSAwIDEgMSAwLTIyIDExIDExIDAgMCAxIDAgMjIiLz48cGF0aCBmaWxsPSIjZDlkOWQ5IiBkPSJtMTAuOTU1IDE2LjA1NS0zLjk1LTQuMTI1LTEuNDQ1IDEuMzg1IDUuMzcgNS42MSA5LjQ5NS05LjYtMS40Mi0xLjQwNXoiLz48L3N2Zz4=)}body #challenge-error-text{background-image:url(data:image/svg+xml;base64,PHN2ZyB4bWxucz0iaHR0cDovL3d3dy53My5vcmcvMjAwMC9zdmciIHdpZHRoPSIzMiIgaGVpZ2h0PSIzMiIgZmlsbD0ibm9uZSI+PHBhdGggZmlsbD0iI0IyMEYwMyIgZD0iTTE2IDNhMTMgMTMgMCAxIDAgMTMgMTNBMTMuMDE1IDEzLjAxNSAwIDAgMCAxNiAzbTAgMjRhMTEgMTEgMCAxIDEgMTEtMTEgMTEuMDEgMTEuMDEgMCAwIDEtMTEgMTEiLz48cGF0aCBmaWxsPSIjQjIwRjAzIiBkPSJNMTcuMDM4IDE4LjYxNUgxNC44N0wxNC41NjMgOS41aDIuNzgzem0tMS4wODQgMS40MjdxLjY2IDAgMS4wNTcuMzg4LjQwNy4zODkuNDA3Ljk5NCAwIC41OTYtLjQwNy45ODQtLjM5Ny4zOS0xLjA1Ny4zODktLjY1IDAtMS4wNTYtLjM4OS0uMzk4LS4zODktLjM5OC0uOTg0IDAtLjU5Ny4zOTgtLjk4NS40MDYtLjM5NyAxLjA1Ni0uMzk3Ii8+PC9zdmc+)}}</style><meta http-equiv=\"refresh\" content=\"390\"></head><body class=\"no-js\"><div class=\"main-wrapper\" role=\"main\"><div class=\"main-content\"><noscript><div id=\"challenge-error-title\"><div class=\"h2\"><span id=\"challenge-error-text\">Enable JavaScript and cookies to continue</span></div></div></noscript></div></div><script>(function(){window._cf_chl_opt={cvId: \\'3\\',cZone: \"ana-slo.com\",cType: \\'managed\\',cNounce: \\'67126\\',cRay: \\'8c04e6c509facf9f\\',cHash: \\'5691a725688973d\\',cUPMDTk: \"\\\\/%E5%8C%97%E6%B5%B7%E9%81%93-%E3%83%AD%E3%82%A4%E3%83%A4%E3%83%AB%E7%B6%B2%E8%B5%B0%E5%BA%97-data\\\\/?__cf_chl_tk=fYCBiBfLxQjhBHJFt2kJkobUX320DTdY6Pzi78SbNJQ-1725861033-0.0.1.1-4777\",cFPWv: \\'b\\',cTTimeMs: \\'1000\\',cMTimeMs: \\'390000\\',cTplV: 5,cTplB: \\'cf\\',cK: \"\",fa: \"\\\\/%E5%8C%97%E6%B5%B7%E9%81%93-%E3%83%AD%E3%82%A4%E3%83%A4%E3%83%AB%E7%B6%B2%E8%B5%B0%E5%BA%97-data\\\\/?__cf_chl_f_tk=fYCBiBfLxQjhBHJFt2kJkobUX320DTdY6Pzi78SbNJQ-1725861033-0.0.1.1-4777\",md: \".y_cB5NCqxazk63ANz6jJ_3aA_kJ7KoTO3UhLJEDy0M-1725861033-1.1.1.1-7WiYJqB60RVYgoEPtz1epqZdv8ftmIoA9X6M7YQhMriwGdlccHi9L5jiHBD4p60WLxe_EA2VZhjpQ4qZ23tmR0u9rUo.Gy4ZCxswLRQlzBo1y3nbmun7AL7.qz8LG57wgrbSLSznhZ4Z5lFV3Xl6h2aACtSsICfPIg7KeRGOXlGEGgwORLas2PxryoaLPPxBn2TyUBRvOEKjRPRHkAZ1UFTM.GRNMWJvV87NkOQ_GLpXukoek1b.z.64HjvPnJqrv6PL8KM9zmegUMQTAoa_RDmC09BleeDZQgR7x78OGUaIbYcbrbVH_5w9GdbICheVR1Apb7nn1l6xxgV93MzWy7gKPxBiPfSNpP7B5Sw.9byi_W.uEExlf5bKOuZ78U5sMPICDrKZEpq2xDOfnMBqFxscsZuBSJQ67EbcSl1W4k2bRuO1bM1XGqvts660HqiWurKWDNFVk_snwgscXyWlvvNHxqjZShRZBrP69qbf5vhgU_86RoEEsnLB9JTJeFdSAXcocbBI4tl.WPayFX2l1IlSe3DAUJhdoRbxVNQJh.8tBAqKsazRPIO3YHE_tK3RTNkb26MD4TFeHIAJ2CrFfLPJewy3cjCuTs5xItzyCytkD2otZ2KqqSXGqwGIz4JKoXVYv1AZOzPTjvHzZaFbfQ2e3HPJAUG9O7b9DLvsEoB0DLp71y_FfX4Ot6bQEM8by_0hNlLCNLiMjAchMFLDhgpmDxSJc72H0ld._xrndIz_P4vjKo9MWSkedi1LwsZK3y8yn3oALD8Pls5.CyjJPlKcNwapBhEjCXxUG1yxy99ERwOkY2X1KkS3lWJYH7QWi6u.CYnFaVnP4i6zBiiRnC_UGbGJJh4cJxRszKmZCC2AKEF77CHIB_bPVpa6ndzMIsbvAVIq1b9ZNFVRB8ykC.rhgV5v6J8kUhaSdnaH73Pt6saDPj7KDAmMMQV5gKJpQil5CUkbuFkQ6U1Nzk9t_qgvmhyEXKfscNti5K3CjQAv0P0kkpIcVK3OlnJaZfbnGJN9lVigz.0.1whKGO_YyvsnLm4GM2yrNtSv.uOJNTlGHlyElQXtV4PwfQcGJqX0tOFkjUmt3vd5X3NZ.bcz7c6i4SKxO57gV_fzy1fojOMgRvgRwKLPoINTh69UZAgrSw2ZpW6fmlUh6oCEpcmKmeBzPShRUczXwdoqh1gG_Dv_gPH5IPimqj3oW6eSbOtLYfDDDD3Utmw2buMbSV2ycBC9QOlN08Pw1ux7gGX2FnvSZBYM6gFle5JQFks5j3kFLMvaFtWe7bgr.75qSQmakVjYtX8DvIxn6n.98xcal3X24fP8irsf0BFo5.d8_HBgH1M.T1BaXxR4RvjEz5yl2WWQP7Gq68pDGwctkOE6GHfyTJGuVFXFpmf_MyXDz5SW0IL5ut93hAal096pEU8QQqKheNmdl4gki4HHwwkH10FrxDXqZu1pa4tOmGUq9WCyzXy.Vspn1f1ax_SvqHRozYT81DB_SePvlikglA3mofJB3jtVY2T3OQcaZx0kzvg9KHJdf7S.s8W3ImDaSlR5am4PGLRi7Z9_jaiTswhJpx.T.7AUjKb4TBL35d_HzyVWdNudX35K8kqWjeWeNORgeEqUwQCXpU9rzk.GM5yOlHmAN.ZZGasgiIr3nxzjSg4SvhGZLOybn2bl3WGzaTzwzhZkiOcxj5xE7W3hU1Zz_1CfZEKaITQG5hOkO7J.nlb.tToMj7f.hU64VDJhFXjVJk0rY1GG_bdqV8KVczX2eAozWWvKQgIsv.Ipn4kuokiTd0_yo3AJPe81gyk2iO.xA7w5qCW1lC_C8m0JpaSgOV8ky22373YvpNxubx.buRW.rzq5G.eKBCIjCz9_5NfUJXHz8iSSM5NQOsmfFFgw.kNe7KNTtcabdbEt7tdbpCqYLuJ8cyIG.v1MGp7QHFoeZep2ZhofpYe2U8CgYmEephOiO13sP.RwoEh3UUE_VXN56khL6yjYLXa1xa1Glg7opIoC4lujsoZpVOlewQvUsSCq.OsbIMrEXh79osvvyNOCGKHUDRZRD9gBV9Em9Iw1ZMNjd72LP9JNCCVjPSdIJEwB0_Eju4L5bPK.F4jDvD9A2k_Sp.7fHst41xmD5bhhTvgE6D6Tl1YSEnnpIQScY39WUQJp9L7B1APmZzUGZp3NiHtNZbS0IO.0Cy_lfHVv2EX3HYPv7bEcY39sDDvMZSLfwCSuI8Daa0ozAPDbjknNCacS7epVqCmlvuTyOkmGhxvo6sO0.ZU3Fzyt.n0pV_3hCxeZL1ixi1EHaZattUB9zE8K6.C5FE110_nzcvnZvxVZFLZiNINkEVXDNTx1J_SmstSQzT6MBDiwnzalPA2izotTi48CbPGc.zKdGU8JVjwAkST1H67YelgtRxaAZhZBn2JYH9D.3AP4D6Fk9QNb\",mdrd: \"2JurYLSauTx7orKhkNGJHIAWEIPjcc4Z6CgPDC0Sw.M-1725861033-1.1.1.1-zXSo3B7XUQvzUngJzzmxVeJWsznM6EtAGQbHuqGRh5CRH2st3_Pupf0NFR_UR3Q8tX0T71MeBJA2IrGiq2DRpYwkBK7GS.6Oi8kmEveU15CNIWFcT_zx3WhzMmsblREbWYH4dSG9vxpkv9nCL65Y1Einx0m9UkPnujpJuJivmVtTfnJj2y4TOh.FprwdeyoM_1btlWf.pLfLI3jh2qTvcVGd_aQAkXWuCE67YzCT64R3s5HBy6xXUB5hOUHsYbs41LIDGyd21ArSPe9Az_oKwxiNUa1V9YDr1dson1IlpYVBeP6l1cmo7NeyqnD5U2jHvAud.CBWt8EGMA5Lm1oE5gs1KSxBZNIHOlDKZolvFXOVxCyOUXQUccMAPzErKk6JfzUo0ndaS3zzObT1l_yi1k7PQ3.aUNwE6r5zpnuQe0cSwBZifk7rlyH5il5cCeVEUyPV.efKqzoc6ieHCDyL_8vktr3mTXHiB1uiynTYguZaOPZlNPY9R2bld051ErugoAlVvnA3TDmy2d4KKCSC6FP_02NtrdIQgkBcEjGmH2j0jjH9mClcpB7wEY6LzffcyjbZ3DbWd.h1WrNcxVkV0rdsXEnUEH9GIJMjU.kQRsi2AcyqX2WuYp3gfko41sajkk0Y1RtMsfxaRI6XKoZqNMwcQ.JwfKCYEr0xu6mOQhN5dHWJtBsIK1DiFKKpq8KmWJS4jawcDy18_saBHzuSLg5teYJFvyjT_0WJc3ARfNC7hPREwgUZ5eiC7ZripBT9.L8uDozW823jDTGhcI.NZVYlaVAyYY4JMXWcpKyZ_G5UlqPhp90Hv85TEOTAXnVMTV0epVx5W_fD6dWxoeCKBT.ikYYMAI.DAa0g7k4r6vl9RYDC6zOl0D23HrTMvIAp9wV8dYC_CLG4ezSWJao5VB0hWIVYMpdjCoReNpXoQ_tkEg7HQ1I531UMSdu7_IaBCR.2dL5VtXTbo5adkShRwDCtPay5UBOw8KJ2B2VFc8K6hNQC02Y5cHiIUv34eWH5kl55LtlZps5euBd.mHL52XlbZHv1x_RS9lAUyUYyuImYyWbdAJBUd_kPAhejnbIIi4nNiH.ipsW0pKc559wCEGPeV2agwXb98VPBdPquaG3IxTFyF4g41Pc9CAW6JB.1nhMbwQtu7bVZ5J03Khfq.rQyFetMDz7IPgsMKGHa6dCe4OXlR12sAUBZi1zBHIX0PIJaw3fw1uMSJmICncXv8DnQvrJJYy3co0S4rYxYK9GQGPy.dybpGUuAsOqJkiqSle.iD6cwCPoqiIz61go4mG6Xp_cvUINpIt3wmAARyfHVeaAc7zjPJ.Mld1fLNlHX_MdpShQ.E.bLxwOdIWw3Czj2TgLbijBo1wj5BmePDkQvzlJ.HAEGOnsortcjsNOXoE93iKj2GaB2KoBv_odEm22dtW_oz2o_L6.OarivRDJpZCt1a2mb4QCzDQr1WJdVlordM0MbIOBb2zWNoFx7yvWf.Rb9FQqefaQ0Q8SFf3gzF6WoZZlq4Clj3y0i0626QFE3343XOf8V1hFYm.ODgm4vzugHbWKJ__xQ1AxM1nV2W7kG88JDLuYKC7W.sdDewffDDadtcfwbZoAS19rlFR7OcaYJZQfNZeRzD1xFBODoFBvDBvLEhnS3sJUJLfNEk2hIzK.yBLMEMSgPFzHbrjgmTKtqS5gs5QGDa9pz09XNsK0ZfizAXAmN0VJgx0_ujcd4qoGvCT2AyZPaoX300NzmINvADBw7DHagMWw8XN.vmDOox.Jc_XLTcUqydkrFq44tYOU53X3H2xJobNcyse47mV0_Fh7sfSo6JzwReP01ZFGGtYGuu2L2u3pxDmM1z4GQ20aQyplFk.gRGl1IPARORymC_1_kURC7VPH9gfWX2Foca19eTCyHI49ymopuz9WIpRmCqR6fqDk5.F6kQLH8wG2MS5ZpDO5OGngV5mmw0ifevDEJJAOCNousdZ8sx5PXaLScIAsbmphmjVdxMwzR.X58Tdae1cm7WdeJCf7L40dWOV3BuNqrwr2Md2QPgXW0pFMZ3b7AvWbYWswELMDTNFwAuaPVmmOaW1bJIDE22hdVB8RgUWwQhMrtcfmMHz_dlBCu3oxd2UZ_gdeH3RBUtozGtCyT0rRJ5BaFjRio11y5zttka3hyQ0a7HJyqGWDrUy5eJdUHTwD2QNPerRZF64SO6mWvace_PtAFl1k\",cRq: {ru: \\'aHR0cHM6Ly9hbmEtc2xvLmNvbS8lRTUlOEMlOTclRTYlQjUlQjclRTklODElOTMtJUUzJTgzJUFEJUUzJTgyJUE0JUUzJTgzJUE0JUUzJTgzJUFCJUU3JUI2JUIyJUU4JUI1JUIwJUU1JUJBJTk3LWRhdGEv\\',ra: \\'cHl0aG9uLXJlcXVlc3RzLzIuMjguMQ==\\',d: \\'95S9OZhD2+fKyIio/RuQL+gALDqFujpRH+aA9yxnFT04daIUUIdqkG2IldGYcm2CgkgIdoS7zLwxidfLBup7PQ2FFt5WxaYLKbwfhcNzxnlKN35IDR7aZ77NEzLO6kEQoptrly0jB50i8YgUqiQpToD7Gd/ppeTWkSht2fVwfDuITfX42QGT0pg5mPb+IdkSlpqqu5agvpj0EfUNyGhvZ9V2X583M9fI0npXJAagNwSRt3CKr2yN/tZ0GoKLb1eRccXZGRzq0C1c+P9nkdFHPFSpX725F34swGO5oFCQnb6uvKlIhU6CI8qZK4kCuU8TanrzAoK6A6iW2e7yFdH0nXghP3e5jrldVRUB1fHFUpPZmSg1LtNUZ5nnT9Vgc0Y40TEMqpN8pZKtKdeL3aoRuhkbBSIuCZnFDhE+pK46tneWNvd5HI3G2mrlkj+wu2uO0lUJfg2yTcO+WAr7OIHNzt0dIzZabSYMMdVuv2+X7EeBC5mJ9XyCQCu9jY3thXxHavAArQ6FdBAq75ZOaIsHxG9EMYEWsY0msoqSoz3LkQIVXBIGLlZxUk/EDaECT8LZLQDL8ESKcAlc7KgCvcA7ByTw+JPEijKllyHKsg6hk0AYiDMw4aWmtjKkiEJoy0V+\\',t: \\'MTcyNTg2MTAzMy4wMDAwMDA=\\',cT: Math.floor(Date.now() / 1000),m: \\'FVlEQ3RHIDrm/Tm6mhu0jzJMOz2gKCIh9GT9Qlw1pwE=\\',i1: \\'j9AKOeZrBUJGFAFDt+5M0g==\\',i2: \\'FY6vpA/uEs0WcN8+9Ty3LA==\\',zh: \\'dgHUe8PbnmQl5ryvppn5zYDYuLNUvVHil/i5nwTA2QU=\\',uh: \\'SLdVolODg++SO356HusO5I/hbfOpiiOxQXj62i/MUkA=\\',hh: \\'rFdoD346kveuCj3oczWlfuOgIh/L2IUbXug70w4ELUY=\\',}};var cpo = document.createElement(\\'script\\');cpo.src = \\'/cdn-cgi/challenge-platform/h/b/orchestrate/chl_page/v1?ray=8c04e6c509facf9f\\';window._cf_chl_opt.cOgUHash = location.hash === \\'\\' && location.href.indexOf(\\'#\\') !== -1 ? \\'#\\' : location.hash;window._cf_chl_opt.cOgUQuery = location.search === \\'\\' && location.href.slice(0, location.href.length - window._cf_chl_opt.cOgUHash.length).indexOf(\\'?\\') !== -1 ? \\'?\\' : location.search;if (window.history && window.history.replaceState) {var ogU = location.pathname + window._cf_chl_opt.cOgUQuery + window._cf_chl_opt.cOgUHash;history.replaceState(null, null, \"\\\\/%E5%8C%97%E6%B5%B7%E9%81%93-%E3%83%AD%E3%82%A4%E3%83%A4%E3%83%AB%E7%B6%B2%E8%B5%B0%E5%BA%97-data\\\\/?__cf_chl_rt_tk=fYCBiBfLxQjhBHJFt2kJkobUX320DTdY6Pzi78SbNJQ-1725861033-0.0.1.1-4777\" + window._cf_chl_opt.cOgUHash);cpo.onload = function() {history.replaceState(null, null, ogU);}}document.getElementsByTagName(\\'head\\')[0].appendChild(cpo);}());</script></body></html>'"
      ]
     },
     "execution_count": 9,
     "metadata": {},
     "output_type": "execute_result"
    }
   ],
   "source": [
    "response.text"
   ]
  },
  {
   "cell_type": "code",
   "execution_count": 4,
   "metadata": {},
   "outputs": [
    {
     "ename": "IndexError",
     "evalue": "list index out of range",
     "output_type": "error",
     "traceback": [
      "\u001b[1;31m---------------------------------------------------------------------------\u001b[0m",
      "\u001b[1;31mIndexError\u001b[0m                                Traceback (most recent call last)",
      "\u001b[1;32mc:\\Users\\文傑\\Desktop\\Tibame\\ana_slo_f\\ana_slo_test.ipynb 儲存格 2\u001b[0m in \u001b[0;36m2\n\u001b[0;32m      <a href='vscode-notebook-cell:/c%3A/Users/%E6%96%87%E5%82%91/Desktop/Tibame/ana_slo_f/ana_slo_test.ipynb#X25sZmlsZQ%3D%3D?line=0'>1</a>\u001b[0m \u001b[39mimport\u001b[39;00m \u001b[39mana_slo\u001b[39;00m \n\u001b[1;32m----> <a href='vscode-notebook-cell:/c%3A/Users/%E6%96%87%E5%82%91/Desktop/Tibame/ana_slo_f/ana_slo_test.ipynb#X25sZmlsZQ%3D%3D?line=1'>2</a>\u001b[0m a \u001b[39m=\u001b[39m ana_slo\u001b[39m.\u001b[39;49mana_slo(\u001b[39m'\u001b[39;49m\u001b[39m北海道\u001b[39;49m\u001b[39m'\u001b[39;49m, \u001b[39m'\u001b[39;49m\u001b[39mロイヤル網走店\u001b[39;49m\u001b[39m'\u001b[39;49m)\n\u001b[0;32m      <a href='vscode-notebook-cell:/c%3A/Users/%E6%96%87%E5%82%91/Desktop/Tibame/ana_slo_f/ana_slo_test.ipynb#X25sZmlsZQ%3D%3D?line=2'>3</a>\u001b[0m a\n",
      "File \u001b[1;32mc:\\Users\\文傑\\Desktop\\Tibame\\ana_slo_f\\ana_slo.py:25\u001b[0m, in \u001b[0;36mana_slo.__init__\u001b[1;34m(self, country, store)\u001b[0m\n\u001b[0;32m     23\u001b[0m soup \u001b[39m=\u001b[39m BeautifulSoup(response\u001b[39m.\u001b[39mtext, \u001b[39m'\u001b[39m\u001b[39mhtml.parser\u001b[39m\u001b[39m'\u001b[39m)\n\u001b[0;32m     24\u001b[0m div \u001b[39m=\u001b[39m soup\u001b[39m.\u001b[39mfind_all(\u001b[39m'\u001b[39m\u001b[39mdiv\u001b[39m\u001b[39m'\u001b[39m, \u001b[39mid\u001b[39m\u001b[39m=\u001b[39m\u001b[39m'\u001b[39m\u001b[39mall_data_block\u001b[39m\u001b[39m'\u001b[39m)\n\u001b[1;32m---> 25\u001b[0m tr \u001b[39m=\u001b[39m div[\u001b[39m0\u001b[39;49m]\u001b[39m.\u001b[39mfind_all(\u001b[39m'\u001b[39m\u001b[39mtr\u001b[39m\u001b[39m'\u001b[39m)\n\u001b[0;32m     26\u001b[0m columns_slot \u001b[39m=\u001b[39m tr[\u001b[39m0\u001b[39m]\u001b[39m.\u001b[39mtext\u001b[39m.\u001b[39mstrip()\u001b[39m.\u001b[39msplit(\u001b[39m'\u001b[39m\u001b[39m\\n\u001b[39;00m\u001b[39m'\u001b[39m)\n\u001b[0;32m     27\u001b[0m columns_slot\u001b[39m.\u001b[39mappend(\u001b[39m'\u001b[39m\u001b[39mDATE\u001b[39m\u001b[39m'\u001b[39m)\n",
      "\u001b[1;31mIndexError\u001b[0m: list index out of range"
     ]
    }
   ],
   "source": [
    "import ana_slo \n",
    "a = ana_slo.ana_slo('北海道', 'ロイヤル網走店')\n",
    "a"
   ]
  },
  {
   "cell_type": "code",
   "execution_count": 1,
   "metadata": {},
   "outputs": [
    {
     "name": "stdout",
     "output_type": "stream",
     "text": [
      "東京都 アミューズ浅草店\n"
     ]
    }
   ],
   "source": [
    "import re\n",
    "pattern = r'^[^,]+,[^,]+$'\n",
    "user_message = '東京都,アミューズ浅草店'\n",
    "if  re.match(pattern, user_message):\n",
    "    country,storename = user_message.split(',')\n",
    "    print(country,storename)"
   ]
  },
  {
   "cell_type": "code",
   "execution_count": 39,
   "metadata": {},
   "outputs": [],
   "source": [
    "#the main function\n",
    "\n",
    "class ana_slo_crawler:\n",
    "\n",
    "    def __init__(self, country, store):\n",
    "        response = requests.get(f'https://ana-slo.com/ホールデータ/{country}/{store}-データ一覧/')\n",
    "        soup = BeautifulSoup(response.text, 'html.parser')\n",
    "        table = soup.find('div' , id= 'table')\n",
    "\n",
    "        #找到所有有 a 的日期\n",
    "        a = table.find_all('a')\n",
    "        a_list = []\n",
    "        for date in a:\n",
    "            a_list.append(date.text.strip()[:10].replace('/', '-'))\n",
    "        self.a_list = a_list\n",
    "\n",
    "        self.store = store \n",
    "\n",
    "        response = requests.get(f'https://ana-slo.com/{self.a_list[0]}-{store}-data/')\n",
    "        soup = BeautifulSoup(response.text, 'html.parser')\n",
    "        div = soup.find_all('div', id='all_data_block')\n",
    "        tr = div[0].find_all('tr')\n",
    "        columns_slot = tr[0].text.strip().split('\\n')\n",
    "        columns_slot.append('DATE')\n",
    "        self.columns_slot = columns_slot\n",
    "        #['機種名', '台番号', 'G数', '差枚', 'BB', 'RB', '合成確率', 'BB確率', 'RB確率','DATE']\n",
    "\n",
    "    def get_slot_data_14(self):  \n",
    "\n",
    "        def _get_slot_data(date , store):\n",
    "            nonlocal data_list\n",
    "\n",
    "            response = requests.get(f'https://ana-slo.com/{date}-{store}-data/')\n",
    "            soup = BeautifulSoup(response.text, 'html.parser')\n",
    "\n",
    "            div = soup.find_all('div', id='all_data_block')\n",
    "            tr = div[0].find_all('tr')\n",
    "            columns_slot = tr[0].text.strip().split('\\n')\n",
    "\n",
    "            for td in tr[1:len(tr)]:\n",
    "                data = td.text.strip().split('\\n')\n",
    "                if len(data)==len(columns_slot):\n",
    "                    data.append(date)\n",
    "                    data_list.append(data)\n",
    "\n",
    "        data_list = []\n",
    "        ths = [None] * len(self.a_list[:14])\n",
    "        for i in range(len(self.a_list[:14])):\n",
    "            ths[i] = Thread(target=_get_slot_data, args=(self.a_list[i],self.store ), daemon=True)\n",
    "            ths[i].start()\n",
    "\n",
    "        for i in range(len(self.a_list[:14])):\n",
    "            ths[i].join()   \n",
    "            \n",
    "        return data_list"
   ]
  },
  {
   "cell_type": "code",
   "execution_count": 40,
   "metadata": {},
   "outputs": [
    {
     "name": "stdout",
     "output_type": "stream",
     "text": [
      "['2024-09-06', '2024-08-28', '2024-08-26', '2024-08-18', '2024-08-16', '2024-08-08', '2024-08-06', '2024-07-28', '2024-07-26', '2024-07-18', '2024-07-16', '2024-07-08', '2024-07-06', '2024-06-28', '2024-06-26', '2024-06-18', '2024-06-16', '2024-06-08', '2024-06-06', '2024-05-28', '2024-05-26', '2024-05-18', '2024-05-16', '2024-05-08', '2024-05-06', '2024-04-28', '2024-04-26', '2024-04-18', '2024-04-16', '2024-04-08', '2024-04-06', '2024-03-28', '2024-03-26', '2024-03-24', '2024-03-21', '2024-03-18', '2024-03-16', '2024-03-08', '2024-03-06', '2024-02-28', '2024-02-26', '2024-02-18', '2024-02-16', '2024-02-08', '2024-02-06', '2024-01-28', '2024-01-26', '2024-01-18', '2024-01-16', '2024-01-08', '2024-01-06', '2023-12-28', '2023-12-26', '2023-12-18', '2023-12-16', '2023-12-08', '2023-12-06', '2023-11-28', '2023-11-26', '2023-11-18', '2023-11-16', '2023-11-08', '2023-11-06', '2023-10-28', '2023-10-26', '2023-10-18', '2023-10-16', '2023-10-08', '2023-10-06', '2023-09-28', '2023-09-18', '2023-09-08', '2023-08-28', '2023-08-18', '2023-08-08']\n",
      "ロイヤル網走店\n",
      "['機種名', '台番号', 'G数', '差枚', 'BB', 'RB', '合成確率', 'BB確率', 'RB確率', 'DATE']\n"
     ]
    }
   ],
   "source": [
    "data = ana_slo_crawler('北海道','ロイヤル網走店')\n",
    "print(data.a_list )\n",
    "print(data.store )\n",
    "print(data.columns_slot)\n"
   ]
  },
  {
   "cell_type": "code",
   "execution_count": 41,
   "metadata": {},
   "outputs": [
    {
     "data": {
      "text/html": [
       "<div>\n",
       "<style scoped>\n",
       "    .dataframe tbody tr th:only-of-type {\n",
       "        vertical-align: middle;\n",
       "    }\n",
       "\n",
       "    .dataframe tbody tr th {\n",
       "        vertical-align: top;\n",
       "    }\n",
       "\n",
       "    .dataframe thead th {\n",
       "        text-align: right;\n",
       "    }\n",
       "</style>\n",
       "<table border=\"1\" class=\"dataframe\">\n",
       "  <thead>\n",
       "    <tr style=\"text-align: right;\">\n",
       "      <th></th>\n",
       "      <th>機種名</th>\n",
       "      <th>台番号</th>\n",
       "      <th>G数</th>\n",
       "      <th>差枚</th>\n",
       "      <th>BB</th>\n",
       "      <th>RB</th>\n",
       "      <th>合成確率</th>\n",
       "      <th>BB確率</th>\n",
       "      <th>RB確率</th>\n",
       "      <th>DATE</th>\n",
       "    </tr>\n",
       "  </thead>\n",
       "  <tbody>\n",
       "    <tr>\n",
       "      <th>0</th>\n",
       "      <td>アイムジャグラーEX-TP</td>\n",
       "      <td>482</td>\n",
       "      <td>1,590</td>\n",
       "      <td>-236</td>\n",
       "      <td>5</td>\n",
       "      <td>5</td>\n",
       "      <td>1/159.0</td>\n",
       "      <td>1/318.0</td>\n",
       "      <td>1/318.0</td>\n",
       "      <td>2024-07-26</td>\n",
       "    </tr>\n",
       "    <tr>\n",
       "      <th>1</th>\n",
       "      <td>アイムジャグラーEX-TP</td>\n",
       "      <td>484</td>\n",
       "      <td>2,066</td>\n",
       "      <td>-836</td>\n",
       "      <td>5</td>\n",
       "      <td>4</td>\n",
       "      <td>1/229.6</td>\n",
       "      <td>1/413.2</td>\n",
       "      <td>1/516.5</td>\n",
       "      <td>2024-07-26</td>\n",
       "    </tr>\n",
       "    <tr>\n",
       "      <th>2</th>\n",
       "      <td>アイムジャグラーEX-TP</td>\n",
       "      <td>486</td>\n",
       "      <td>1,812</td>\n",
       "      <td>-1,165</td>\n",
       "      <td>2</td>\n",
       "      <td>6</td>\n",
       "      <td>1/226.5</td>\n",
       "      <td>1/906.0</td>\n",
       "      <td>1/302.0</td>\n",
       "      <td>2024-07-26</td>\n",
       "    </tr>\n",
       "    <tr>\n",
       "      <th>3</th>\n",
       "      <td>アイムジャグラーEX-TP</td>\n",
       "      <td>488</td>\n",
       "      <td>3,068</td>\n",
       "      <td>-593</td>\n",
       "      <td>10</td>\n",
       "      <td>3</td>\n",
       "      <td>1/236.0</td>\n",
       "      <td>1/306.8</td>\n",
       "      <td>1/1022.7</td>\n",
       "      <td>2024-07-26</td>\n",
       "    </tr>\n",
       "    <tr>\n",
       "      <th>4</th>\n",
       "      <td>アイムジャグラーEX-TP</td>\n",
       "      <td>490</td>\n",
       "      <td>1,452</td>\n",
       "      <td>+178</td>\n",
       "      <td>6</td>\n",
       "      <td>2</td>\n",
       "      <td>1/181.5</td>\n",
       "      <td>1/242.0</td>\n",
       "      <td>1/726.0</td>\n",
       "      <td>2024-07-26</td>\n",
       "    </tr>\n",
       "  </tbody>\n",
       "</table>\n",
       "</div>"
      ],
      "text/plain": [
       "             機種名  台番号     G数      差枚  BB RB     合成確率     BB確率      RB確率  \\\n",
       "0  アイムジャグラーEX-TP  482  1,590    -236   5  5  1/159.0  1/318.0   1/318.0   \n",
       "1  アイムジャグラーEX-TP  484  2,066    -836   5  4  1/229.6  1/413.2   1/516.5   \n",
       "2  アイムジャグラーEX-TP  486  1,812  -1,165   2  6  1/226.5  1/906.0   1/302.0   \n",
       "3  アイムジャグラーEX-TP  488  3,068    -593  10  3  1/236.0  1/306.8  1/1022.7   \n",
       "4  アイムジャグラーEX-TP  490  1,452    +178   6  2  1/181.5  1/242.0   1/726.0   \n",
       "\n",
       "         DATE  \n",
       "0  2024-07-26  \n",
       "1  2024-07-26  \n",
       "2  2024-07-26  \n",
       "3  2024-07-26  \n",
       "4  2024-07-26  "
      ]
     },
     "execution_count": 41,
     "metadata": {},
     "output_type": "execute_result"
    }
   ],
   "source": [
    "df_all = pd.DataFrame(data.get_slot_data_14(), columns=data.columns_slot)\n",
    "df_all.head()"
   ]
  },
  {
   "cell_type": "code",
   "execution_count": 42,
   "metadata": {},
   "outputs": [
    {
     "name": "stdout",
     "output_type": "stream",
     "text": [
      "        差枚       win\n",
      "台番号                 \n",
      "520  32534  0.500000\n",
      "412  29940  0.357143\n",
      "457  26748  0.785714\n",
      "442  21070  0.642857\n",
      "427  19125  0.571429\n",
      "426  18217  0.642857\n",
      "501  16008  0.428571\n",
      "459  15621  0.500000\n",
      "429  15605  0.428571\n",
      "445  13926  0.428571\n",
      "          win     差枚\n",
      "台番号                 \n",
      "457  0.785714  26748\n",
      "426  0.642857  18217\n",
      "474  0.642857   5904\n",
      "461  0.642857   5902\n",
      "442  0.642857  21070\n",
      "535  0.571429   4755\n",
      "492  0.571429   1435\n",
      "542  0.571429   2809\n",
      "544  0.571429   1056\n",
      "434  0.571429  13309\n"
     ]
    },
    {
     "name": "stderr",
     "output_type": "stream",
     "text": [
      "C:\\Users\\文傑\\AppData\\Local\\Temp\\ipykernel_364600\\507179861.py:4: FutureWarning: The default value of regex will change from True to False in a future version. In addition, single character regular expressions will *not* be treated as literal strings when regex=True.\n",
      "  df_all['差枚'] = df_all['差枚'].str.replace(',', '').str.replace('+', '').astype(int)\n"
     ]
    }
   ],
   "source": [
    "\n",
    "#------------------------------------------------\n",
    "#用差枚總數排行\n",
    "df_all['差枚'] = df_all['差枚'].fillna(0)\n",
    "df_all['差枚'] = df_all['差枚'].str.replace(',', '').str.replace('+', '').astype(int)\n",
    "top10_coins = df_all.groupby('台番号')['差枚'].sum().sort_values(ascending=False).head(10)\n",
    "df_all['win'] = df_all['差枚'].apply(lambda x: 1 if x > 0 else 0)\n",
    "#top10.index 篩選df_all['台號'] == top10.index\n",
    "df_top10_coins = df_all[df_all['台番号'].isin(top10_coins.index)]\n",
    "#計算top10的WIN RATE\n",
    "top10_coins_win_rate = df_top10_coins.groupby('台番号')['win'].mean().sort_values(ascending=False).head(10)\n",
    "df_final_coins = pd.merge(top10_coins, top10_coins_win_rate, on='台番号', how='left')\n",
    "print(df_final_coins)\n",
    "\n",
    "#------------------------------------------------\n",
    "#計算['win']裡的1的比例 groupby 台號\n",
    "win_rate_top10  = df_all.groupby('台番号')['win'].mean().sort_values(ascending=False).head(10)\n",
    "#merge對應的差枚\n",
    "top10_win_rate_coins = df_all[df_all['台番号'].isin(win_rate_top10.index)]\n",
    "top10_win_rate_coins = top10_win_rate_coins.groupby('台番号')['差枚'].sum()\n",
    "df_final_win_rate = pd.merge( win_rate_top10,top10_win_rate_coins , on='台番号', how='left')\n",
    "print(df_final_win_rate)"
   ]
  },
  {
   "attachments": {},
   "cell_type": "markdown",
   "metadata": {},
   "source": [
    "以下分析"
   ]
  },
  {
   "cell_type": "code",
   "execution_count": null,
   "metadata": {},
   "outputs": [],
   "source": [
    "df_all['差枚'] = df_all['差枚'].str.replace(',', '').str.replace('+', '').astype(int)\n",
    "#差枚欄位改為int\n",
    "df_all['差枚'].astype(int)"
   ]
  },
  {
   "cell_type": "code",
   "execution_count": null,
   "metadata": {},
   "outputs": [],
   "source": [
    "#小丑\n",
    "dic = {1 : 1/163.8 ,\n",
    "2 : 1/159.1\n",
    ",3 : 1/148.6\n",
    ",4 : 1/135.2\n",
    ",5 : 1/126.8\n",
    ",6 : 1/114.6}"
   ]
  },
  {
   "cell_type": "code",
   "execution_count": null,
   "metadata": {},
   "outputs": [],
   "source": [
    "dic.values()"
   ]
  },
  {
   "cell_type": "code",
   "execution_count": null,
   "metadata": {},
   "outputs": [],
   "source": [
    "def safe_division(x):\n",
    "    try:\n",
    "        return eval(x) if '/' in x else float(x)\n",
    "    except ZeroDivisionError:\n",
    "        return 0  # 或者其他你希望在分母為零時返回的值\n",
    "\n",
    "df_all['合成確率'] = df_all['合成確率'].apply(safe_division)\n",
    "df_all['合成確率'].astype(float)"
   ]
  },
  {
   "cell_type": "code",
   "execution_count": null,
   "metadata": {},
   "outputs": [],
   "source": [
    "min(dic.values(), key=lambda x:abs(x-0.006))"
   ]
  },
  {
   "cell_type": "code",
   "execution_count": null,
   "metadata": {},
   "outputs": [],
   "source": [
    "#最接近dic 的value給予其key 例如最接近 1/163.8 的值為1 , 1/159.1 的值為2\n",
    "def find_nearest(dic , value):\n",
    "    nearest = min(dic.values(), key=lambda x:abs(x-value))\n",
    "    for k, v in dic.items():\n",
    "        if v == nearest:\n",
    "            return k\n"
   ]
  },
  {
   "cell_type": "code",
   "execution_count": null,
   "metadata": {},
   "outputs": [],
   "source": [
    "#新增一個欄位並套用find_nearest function\n",
    "df_all['合成確率_rank'] = df_all['合成確率'].apply(lambda x : find_nearest(dic , x))"
   ]
  },
  {
   "cell_type": "code",
   "execution_count": null,
   "metadata": {},
   "outputs": [],
   "source": [
    "マイジャグラーV = df_all[df_all['機種名']=='マイジャグラーV'].sort_index(ascending=True)"
   ]
  },
  {
   "cell_type": "code",
   "execution_count": null,
   "metadata": {},
   "outputs": [],
   "source": [
    "マイジャグラーV.to_csv('マイジャグラーV.csv', index=False)"
   ]
  },
  {
   "cell_type": "code",
   "execution_count": null,
   "metadata": {},
   "outputs": [],
   "source": [
    "df_all.to_csv('slot_data_マルハン石和店_20240514.csv', index=False)"
   ]
  },
  {
   "cell_type": "code",
   "execution_count": null,
   "metadata": {},
   "outputs": [],
   "source": []
  },
  {
   "cell_type": "code",
   "execution_count": null,
   "metadata": {},
   "outputs": [],
   "source": [
    "#test for the data image\n",
    "\n",
    "respinse = requests.get('https://ana-slo.com/2024-05-07-%e3%83%9e%e3%83%ab%e3%83%8f%e3%83%b3%e7%9f%b3%e5%92%8c%e5%ba%97-data/')\n",
    "soup = BeautifulSoup(respinse.text, 'html.parser')\n",
    "\n",
    "div = soup.find_all('div', id='tab02_0')\n",
    "#找到div裡的script  \n",
    "script = div[0].find_all('script')\n",
    "len(script)\n",
    "#提取script裡的 x_value , y_value\n",
    "x_value = script[0].text.split('x_value = ')[1].split(';')[0]\n",
    "y_value = script[0].text.split('y_value = ')[1].split(';')[0]\n",
    "#用x_value , y_value 劃出折線圖\n",
    "import matplotlib.pyplot as plt\n",
    "x = json.loads(x_value)\n",
    "y = json.loads(y_value)\n",
    "plt.plot(x, y)\n",
    "plt.show()\n",
    "\n"
   ]
  }
 ],
 "metadata": {
  "kernelspec": {
   "display_name": "Python 3",
   "language": "python",
   "name": "python3"
  },
  "language_info": {
   "codemirror_mode": {
    "name": "ipython",
    "version": 3
   },
   "file_extension": ".py",
   "mimetype": "text/x-python",
   "name": "python",
   "nbconvert_exporter": "python",
   "pygments_lexer": "ipython3",
   "version": "3.10.7"
  }
 },
 "nbformat": 4,
 "nbformat_minor": 2
}
